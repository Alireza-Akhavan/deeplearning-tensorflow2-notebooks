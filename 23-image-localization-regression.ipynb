{
 "cells": [
  {
   "cell_type": "code",
   "execution_count": null,
   "metadata": {},
   "outputs": [],
   "source": [
    "!git clone https://github.com/Alireza-Akhavan/object-detection-notebooks.git"
   ]
  },
  {
   "cell_type": "markdown",
   "metadata": {},
   "source": [
    "This notebook is part of \"Object detection course\":\n",
    "    https://github.com/Alireza-Akhavan/object-detection-notebooks"
   ]
  },
  {
   "cell_type": "code",
   "execution_count": 1,
   "metadata": {},
   "outputs": [
    {
     "name": "stdout",
     "output_type": "stream",
     "text": [
      "2.2.1\n"
     ]
    },
    {
     "data": {
      "text/plain": [
       "[PhysicalDevice(name='/physical_device:CPU:0', device_type='CPU'),\n",
       " PhysicalDevice(name='/physical_device:XLA_CPU:0', device_type='XLA_CPU'),\n",
       " PhysicalDevice(name='/physical_device:GPU:0', device_type='GPU'),\n",
       " PhysicalDevice(name='/physical_device:XLA_GPU:0', device_type='XLA_GPU')]"
      ]
     },
     "execution_count": 1,
     "metadata": {},
     "output_type": "execute_result"
    }
   ],
   "source": [
    "import tensorflow as tf\n",
    "print(tf.__version__)\n",
    "tf.config.list_physical_devices()"
   ]
  },
  {
   "cell_type": "code",
   "execution_count": 2,
   "metadata": {},
   "outputs": [],
   "source": [
    "from tensorflow.keras.applications.vgg16 import VGG16\n",
    "from tensorflow.keras.layers import Flatten\n",
    "from tensorflow.keras.layers import Dense\n",
    "from tensorflow.keras.layers import Input\n",
    "from tensorflow.keras.models import Sequential\n",
    "from tensorflow.keras.optimizers import Adam\n",
    "from tensorflow.keras.preprocessing.image import img_to_array\n",
    "from tensorflow.keras.preprocessing.image import load_img\n",
    "from sklearn.model_selection import train_test_split\n",
    "import matplotlib.pyplot as plt\n",
    "import numpy as np\n",
    "import cv2\n",
    "import os"
   ]
  },
  {
   "cell_type": "code",
   "execution_count": 3,
   "metadata": {},
   "outputs": [],
   "source": [
    "BASE_PATH = \"/content/object-detection-notebooks/dataset\"\n",
    "IMAGES_PATH = os.path.sep.join([BASE_PATH, \"images\"])\n",
    "ANNOTS_PATH = os.path.sep.join([BASE_PATH, \"airplanes.csv\"])"
   ]
  },
  {
   "cell_type": "code",
   "execution_count": 4,
   "metadata": {},
   "outputs": [],
   "source": [
    "rows = open(ANNOTS_PATH).read().strip().split(\"\\n\")"
   ]
  },
  {
   "cell_type": "code",
   "execution_count": 5,
   "metadata": {},
   "outputs": [],
   "source": [
    "# initialize the list of data (images), our target output predictions\n",
    "# (bounding box coordinates), along with the filenames of the\n",
    "# individual images\n",
    "data = []\n",
    "targets = []\n",
    "filenames = []"
   ]
  },
  {
   "cell_type": "code",
   "execution_count": 6,
   "metadata": {},
   "outputs": [],
   "source": [
    "# loop over the rows\n",
    "for row in rows:\n",
    "    # break the row into the filename and bounding box coordinates\n",
    "    (filename, startX, startY, endX, endY) = row.split(\",\")\n",
    "\n",
    "    # derive the path to the input image, load the image (in OpenCV\n",
    "    # format), and grab its dimensions\n",
    "    imagePath = os.path.sep.join([IMAGES_PATH, filename])\n",
    "    image = cv2.imread(imagePath)\n",
    "    (h, w) = image.shape[:2]\n",
    "\n",
    "    # scale the bounding box coordinates relative to the spatial\n",
    "    # dimensions of the input image\n",
    "    startX = float(startX) / w\n",
    "    startY = float(startY) / h\n",
    "    endX = float(endX) / w\n",
    "    endY = float(endY) / h\n",
    "\n",
    "    # load the image and preprocess it\n",
    "    image = load_img(imagePath, target_size=(224, 224))\n",
    "    image = img_to_array(image)\n",
    "\n",
    "    # update our list of data, targets, and filenames\n",
    "    data.append(image)\n",
    "    targets.append((startX, startY, endX, endY))\n",
    "    filenames.append(filename)"
   ]
  },
  {
   "cell_type": "code",
   "execution_count": 7,
   "metadata": {},
   "outputs": [],
   "source": [
    "# convert the data and targets to NumPy arrays, scaling the input\n",
    "# pixel intensities from the range [0, 255] to [0, 1]\n",
    "data = np.array(data, dtype=\"float32\") / 255.0\n",
    "targets = np.array(targets, dtype=\"float32\")"
   ]
  },
  {
   "cell_type": "code",
   "execution_count": 9,
   "metadata": {},
   "outputs": [],
   "source": [
    "# partition the data into training and testing splits using 90% of\n",
    "# the data for training and the remaining 10% for testing\n",
    "split = train_test_split(data, targets, filenames, test_size=0.10, random_state=42)\n",
    "\n",
    "# unpack the data split\n",
    "(trainImages, testImages) = split[:2]\n",
    "(trainTargets, testTargets) = split[2:4]\n",
    "(trainFilenames, testFilenames) = split[4:]"
   ]
  },
  {
   "cell_type": "code",
   "execution_count": 11,
   "metadata": {},
   "outputs": [],
   "source": [
    "# load the VGG16 network, ensuring the head FC layers are left off\n",
    "vgg = VGG16(weights=\"imagenet\", include_top=False, input_tensor=Input(shape=(224, 224, 3)))"
   ]
  },
  {
   "cell_type": "code",
   "execution_count": 12,
   "metadata": {},
   "outputs": [],
   "source": [
    "model = Sequential()\n",
    "model.add(vgg)\n",
    "model.add(Flatten())\n",
    "model.add( Dense(128, activation=\"relu\"))\n",
    "model.add( Dense(64, activation=\"relu\"))\n",
    "model.add( Dense(32, activation=\"relu\"))\n",
    "model.add( Dense(4, activation=\"sigmoid\"))"
   ]
  },
  {
   "cell_type": "code",
   "execution_count": 13,
   "metadata": {},
   "outputs": [],
   "source": [
    "vgg.trainable = False"
   ]
  },
  {
   "cell_type": "code",
   "execution_count": 14,
   "metadata": {},
   "outputs": [
    {
     "name": "stdout",
     "output_type": "stream",
     "text": [
      "Model: \"sequential\"\n",
      "_________________________________________________________________\n",
      "Layer (type)                 Output Shape              Param #   \n",
      "=================================================================\n",
      "vgg16 (Model)                (None, 7, 7, 512)         14714688  \n",
      "_________________________________________________________________\n",
      "flatten (Flatten)            (None, 25088)             0         \n",
      "_________________________________________________________________\n",
      "dense (Dense)                (None, 128)               3211392   \n",
      "_________________________________________________________________\n",
      "dense_1 (Dense)              (None, 64)                8256      \n",
      "_________________________________________________________________\n",
      "dense_2 (Dense)              (None, 32)                2080      \n",
      "_________________________________________________________________\n",
      "dense_3 (Dense)              (None, 4)                 132       \n",
      "=================================================================\n",
      "Total params: 17,936,548\n",
      "Trainable params: 3,221,860\n",
      "Non-trainable params: 14,714,688\n",
      "_________________________________________________________________\n"
     ]
    }
   ],
   "source": [
    "model.summary()"
   ]
  },
  {
   "cell_type": "code",
   "execution_count": 15,
   "metadata": {},
   "outputs": [],
   "source": [
    "opt = Adam(learning_rate=1e-4)\n",
    "model.compile(loss=\"mse\", optimizer=opt)"
   ]
  },
  {
   "cell_type": "code",
   "execution_count": 16,
   "metadata": {},
   "outputs": [
    {
     "name": "stdout",
     "output_type": "stream",
     "text": [
      "Epoch 1/25\n",
      "23/23 [==============================] - 24s 1s/step - loss: 0.0205 - val_loss: 0.0051\n",
      "Epoch 2/25\n",
      "23/23 [==============================] - 21s 931ms/step - loss: 0.0023 - val_loss: 8.6541e-04\n",
      "Epoch 3/25\n",
      "23/23 [==============================] - 21s 905ms/step - loss: 0.0011 - val_loss: 6.2884e-04\n",
      "Epoch 4/25\n",
      "23/23 [==============================] - 21s 928ms/step - loss: 9.4032e-04 - val_loss: 5.8869e-04\n",
      "Epoch 5/25\n",
      "23/23 [==============================] - 22s 941ms/step - loss: 7.9146e-04 - val_loss: 5.5063e-04\n",
      "Epoch 6/25\n",
      "23/23 [==============================] - 22s 941ms/step - loss: 6.9295e-04 - val_loss: 5.3969e-04\n",
      "Epoch 7/25\n",
      "23/23 [==============================] - 22s 949ms/step - loss: 5.9885e-04 - val_loss: 5.6391e-04\n",
      "Epoch 8/25\n",
      "23/23 [==============================] - 22s 957ms/step - loss: 5.1892e-04 - val_loss: 5.2229e-04\n",
      "Epoch 9/25\n",
      "23/23 [==============================] - 22s 957ms/step - loss: 4.5543e-04 - val_loss: 5.2050e-04\n",
      "Epoch 10/25\n",
      "23/23 [==============================] - 22s 959ms/step - loss: 4.0730e-04 - val_loss: 5.0544e-04\n",
      "Epoch 11/25\n",
      "23/23 [==============================] - 22s 971ms/step - loss: 3.5668e-04 - val_loss: 5.0049e-04\n",
      "Epoch 12/25\n",
      "23/23 [==============================] - 22s 969ms/step - loss: 3.1238e-04 - val_loss: 4.8938e-04\n",
      "Epoch 13/25\n",
      "23/23 [==============================] - 22s 968ms/step - loss: 2.8244e-04 - val_loss: 4.7345e-04\n",
      "Epoch 14/25\n",
      "23/23 [==============================] - 22s 967ms/step - loss: 2.5848e-04 - val_loss: 4.9444e-04\n",
      "Epoch 15/25\n",
      "23/23 [==============================] - 22s 968ms/step - loss: 2.3532e-04 - val_loss: 4.7271e-04\n",
      "Epoch 16/25\n",
      "23/23 [==============================] - 22s 968ms/step - loss: 2.0822e-04 - val_loss: 4.7222e-04\n",
      "Epoch 17/25\n",
      "23/23 [==============================] - 22s 977ms/step - loss: 1.9010e-04 - val_loss: 4.7063e-04\n",
      "Epoch 18/25\n",
      "23/23 [==============================] - 23s 981ms/step - loss: 1.7218e-04 - val_loss: 4.7588e-04\n",
      "Epoch 19/25\n",
      "23/23 [==============================] - 23s 983ms/step - loss: 1.6276e-04 - val_loss: 4.6656e-04\n",
      "Epoch 20/25\n",
      "23/23 [==============================] - 23s 981ms/step - loss: 1.4449e-04 - val_loss: 4.7725e-04\n",
      "Epoch 21/25\n",
      "23/23 [==============================] - 23s 981ms/step - loss: 1.3107e-04 - val_loss: 4.6940e-04\n",
      "Epoch 22/25\n",
      "23/23 [==============================] - 23s 981ms/step - loss: 1.2107e-04 - val_loss: 4.6742e-04\n",
      "Epoch 23/25\n",
      "23/23 [==============================] - 23s 980ms/step - loss: 1.1141e-04 - val_loss: 4.6432e-04\n",
      "Epoch 24/25\n",
      "23/23 [==============================] - 23s 980ms/step - loss: 1.0185e-04 - val_loss: 4.6116e-04\n",
      "Epoch 25/25\n",
      "23/23 [==============================] - 23s 979ms/step - loss: 9.6006e-05 - val_loss: 4.7792e-04\n"
     ]
    }
   ],
   "source": [
    "H = model.fit(\n",
    "trainImages, trainTargets,\n",
    "validation_data=(testImages, testTargets),\n",
    "batch_size=32,\n",
    "epochs=25,\n",
    "verbose=1)"
   ]
  },
  {
   "cell_type": "code",
   "execution_count": 17,
   "metadata": {},
   "outputs": [],
   "source": [
    "model.save(\"localization.h5\", save_format=\"h5\")"
   ]
  },
  {
   "cell_type": "code",
   "execution_count": 18,
   "metadata": {},
   "outputs": [
    {
     "data": {
      "text/plain": [
       "<matplotlib.legend.Legend at 0x26c9cc73248>"
      ]
     },
     "execution_count": 18,
     "metadata": {},
     "output_type": "execute_result"
    },
    {
     "data": {
      "image/png": "[encoded data removed]",
      "text/plain": [
       "<Figure size 432x288 with 1 Axes>"
      ]
     },
     "metadata": {
      "needs_background": "light"
     },
     "output_type": "display_data"
    }
   ],
   "source": [
    "N = H.params['epochs']\n",
    "plt.plot(np.arange(0, N), H.history[\"loss\"], label=\"train_loss\")\n",
    "plt.plot(np.arange(0, N), H.history[\"val_loss\"], label=\"val_loss\")\n",
    "plt.title(\"Bounding Box Regression Loss on Training Set\")\n",
    "plt.xlabel(\"Epoch #\")\n",
    "plt.ylabel(\"Loss\")\n",
    "plt.legend(loc=\"lower left\")"
   ]
  },
  {
   "cell_type": "markdown",
   "metadata": {},
   "source": [
    "Source:\n",
    "\n",
    "https://www.pyimagesearch.com/2020/10/05/object-detection-bounding-box-regression-with-keras-tensorflow-and-deep-learning/"
   ]
  }
 ],
 "metadata": {
  "kernelspec": {
   "display_name": "Python 3 (ipykernel)",
   "language": "python",
   "name": "python3"
  },
  "language_info": {
   "codemirror_mode": {
    "name": "ipython",
    "version": 3
   },
   "file_extension": ".py",
   "mimetype": "text/x-python",
   "name": "python",
   "nbconvert_exporter": "python",
   "pygments_lexer": "ipython3",
   "version": "3.8.10"
  }
 },
 "nbformat": 4,
 "nbformat_minor": 4
}
