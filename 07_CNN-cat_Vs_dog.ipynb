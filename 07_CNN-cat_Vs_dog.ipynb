{
 "cells": [
  {
   "cell_type": "markdown",
   "metadata": {},
   "source": [
    "<center><div style=\"direction:rtl;font-family:B Lotus, B Nazanin, Tahoma\">به نام خدا</div></center>\n",
    "<h1><center><div style=\"direction:rtl;font-family:B Lotus, B Nazanin, Tahoma\">آموزش یک شبکه عصبی کانولوشنالی از ابتدا</div></center></h1>"
   ]
  },
  {
   "cell_type": "code",
   "execution_count": 1,
   "metadata": {},
   "outputs": [],
   "source": [
    "from tensorflow import keras"
   ]
  },
  {
   "cell_type": "markdown",
   "metadata": {},
   "source": [
    "# <div style=\"direction:rtl;text-align:right;font-family:B Lotus, B Nazanin, Tahoma\">آموزش یک شبکه عصبی کانولوشنالی از ابتدا</div>\n",
    "\n",
    "<div style=\"direction:rtl;text-align:right;font-family:Tahoma\">\n",
    "کدها  برگرفته از فصل دو کتاب\n",
    "</div>\n",
    "\n",
    "[Deep Learning with Python](https://www.manning.com/books/deep-learning-with-python?a_aid=keras&a_bid=76564dff)\n",
    "<div style=\"direction:rtl;text-align:right;font-family:Tahoma\">\n",
    "و گیت هاب نویسنده کتاب و توسعه دهنده کراس \n",
    "</div>\n",
    "\n",
    "[François Chollet](http://nbviewer.jupyter.org/github/fchollet/deep-learning-with-python-notebooks/blob/master/5.2-using-convnets-with-small-datasets.ipynb)\n",
    "<div style=\"direction:rtl;text-align:right;font-family:Tahoma\">\n",
    "است.\n",
    "</div>\n"
   ]
  },
  {
   "cell_type": "markdown",
   "metadata": {},
   "source": [
    "# <div style=\"direction:rtl;text-align:right;font-family:B Lotus, B Nazanin, Tahoma\">مجموعه داده</div>\n",
    "\n",
    "<div style=\"direction:rtl;text-align:right;font-family:Tahoma\">\n",
    "مجموعه داده گربه در مقابل سگ برای این مثال استفاده شده است. این مجموعه داده در چالش بینایی کامپیوتر اواخر سال ۲۰۱۳ توسط سایت Kaggle.com در دسترس عموم قرار گرفت.\n",
    "<br>\n",
    "از قبل از سال ۲۰۱۳ استفاده از شبکه های کانولوشنالی خیلی رایج نبود.\n",
    "مجموعه داده در آدرس زیر قابل دانلود است.\n",
    "</div>\n",
    "\n",
    "`https://www.kaggle.com/c/dogs-vs-cats/data`\n",
    "\n",
    "\n",
    "\n",
    "![cats_vs_dogs_samples](https://s3.amazonaws.com/book.keras.io/img/ch5/cats_vs_dogs_samples.jpg)"
   ]
  },
  {
   "cell_type": "markdown",
   "metadata": {},
   "source": [
    "Unsurprisingly, the cats vs. dogs Kaggle competition in 2013 was won by entrants who used convnets. The best entries could achieve up to \n",
    "95% accuracy. In our own example, we will get fairly close to this accuracy (in the next section), even though we will be training our \n",
    "models on less than 10% of the data that was available to the competitors.\n",
    "This original dataset contains 25,000 images of dogs and cats (12,500 from each class) and is 543MB large (compressed). After downloading \n",
    "and uncompressing it, we will create a new dataset containing three subsets: a training set with 1000 samples of each class, a validation \n",
    "set with 500 samples of each class, and finally a test set with 500 samples of each class.\n",
    "\n",
    "Here are a few lines of code to do this:"
   ]
  },
  {
   "cell_type": "code",
   "execution_count": 2,
   "metadata": {},
   "outputs": [],
   "source": [
    "import os, shutil"
   ]
  },
  {
   "cell_type": "code",
   "execution_count": 3,
   "metadata": {},
   "outputs": [],
   "source": [
    "# The path to the directory where the original\n",
    "# dataset was uncompressed\n",
    "original_dataset_dir = 'D:/dataset/catDog/train'\n",
    "\n",
    "# The directory where we will\n",
    "# store our smaller dataset\n",
    "base_dir = 'D:/dataset/catDog/catVsdog'\n",
    "os.mkdir(base_dir)\n"
   ]
  },
  {
   "cell_type": "code",
   "execution_count": 4,
   "metadata": {},
   "outputs": [],
   "source": [
    "# Directories for our training,\n",
    "# validation and test splits\n",
    "train_dir = os.path.join(base_dir, 'train')\n",
    "os.mkdir(train_dir)\n",
    "validation_dir = os.path.join(base_dir, 'validation')\n",
    "os.mkdir(validation_dir)\n",
    "test_dir = os.path.join(base_dir, 'test')\n",
    "os.mkdir(test_dir)"
   ]
  },
  {
   "cell_type": "code",
   "execution_count": 5,
   "metadata": {},
   "outputs": [],
   "source": [
    "# Directory with our training cat pictures\n",
    "train_cats_dir = os.path.join(train_dir, 'cats')\n",
    "os.mkdir(train_cats_dir)\n",
    "\n",
    "# Directory with our training dog pictures\n",
    "train_dogs_dir = os.path.join(train_dir, 'dogs')\n",
    "os.mkdir(train_dogs_dir)\n",
    "\n",
    "# Directory with our validation cat pictures\n",
    "validation_cats_dir = os.path.join(validation_dir, 'cats')\n",
    "os.mkdir(validation_cats_dir)\n",
    "\n",
    "# Directory with our validation dog pictures\n",
    "validation_dogs_dir = os.path.join(validation_dir, 'dogs')\n",
    "os.mkdir(validation_dogs_dir)\n",
    "\n",
    "# Directory with our validation cat pictures\n",
    "test_cats_dir = os.path.join(test_dir, 'cats')\n",
    "os.mkdir(test_cats_dir)\n",
    "\n",
    "# Directory with our validation dog pictures\n",
    "test_dogs_dir = os.path.join(test_dir, 'dogs')\n",
    "os.mkdir(test_dogs_dir)"
   ]
  },
  {
   "cell_type": "code",
   "execution_count": 7,
   "metadata": {},
   "outputs": [],
   "source": [
    "# Copy first 1000 cat images to train_cats_dir\n",
    "fnames = ['cat.{}.jpg'.format(i) for i in range(1000)]\n",
    "for fname in fnames:\n",
    "    src = os.path.join(original_dataset_dir, fname)\n",
    "    dst = os.path.join(train_cats_dir, fname)\n",
    "    shutil.copyfile(src, dst)"
   ]
  },
  {
   "cell_type": "code",
   "execution_count": 8,
   "metadata": {},
   "outputs": [],
   "source": [
    "\n",
    "# Copy next 500 cat images to validation_cats_dir\n",
    "fnames = ['cat.{}.jpg'.format(i) for i in range(1000, 1500)]\n",
    "for fname in fnames:\n",
    "    src = os.path.join(original_dataset_dir, fname)\n",
    "    dst = os.path.join(validation_cats_dir, fname)\n",
    "    shutil.copyfile(src, dst)\n",
    "    \n",
    "# Copy next 500 cat images to test_cats_dir\n",
    "fnames = ['cat.{}.jpg'.format(i) for i in range(1500, 2000)]\n",
    "for fname in fnames:\n",
    "    src = os.path.join(original_dataset_dir, fname)\n",
    "    dst = os.path.join(test_cats_dir, fname)\n",
    "    shutil.copyfile(src, dst)\n",
    "    \n",
    "# Copy first 1000 dog images to train_dogs_dir\n",
    "fnames = ['dog.{}.jpg'.format(i) for i in range(1000)]\n",
    "for fname in fnames:\n",
    "    src = os.path.join(original_dataset_dir, fname)\n",
    "    dst = os.path.join(train_dogs_dir, fname)\n",
    "    shutil.copyfile(src, dst)\n",
    "    \n",
    "# Copy next 500 dog images to validation_dogs_dir\n",
    "fnames = ['dog.{}.jpg'.format(i) for i in range(1000, 1500)]\n",
    "for fname in fnames:\n",
    "    src = os.path.join(original_dataset_dir, fname)\n",
    "    dst = os.path.join(validation_dogs_dir, fname)\n",
    "    shutil.copyfile(src, dst)\n",
    "    \n",
    "# Copy next 500 dog images to test_dogs_dir\n",
    "fnames = ['dog.{}.jpg'.format(i) for i in range(1500, 2000)]\n",
    "for fname in fnames:\n",
    "    src = os.path.join(original_dataset_dir, fname)\n",
    "    dst = os.path.join(test_dogs_dir, fname)\n",
    "    shutil.copyfile(src, dst)"
   ]
  },
  {
   "cell_type": "markdown",
   "metadata": {},
   "source": [
    "## <div style=\"direction:rtl;text-align:right;font-family:B Lotus, B Nazanin, Tahoma\"> برای بررسی صحت انجام کار تعداد تصاویرآموزشی/آزمون/توسعه را بررسی میکنیم.</div>\n"
   ]
  },
  {
   "cell_type": "code",
   "execution_count": 4,
   "metadata": {},
   "outputs": [
    {
     "data": {
      "text/plain": [
       "'D:/dataset/catDog/catVsdog\\\\train\\\\cats'"
      ]
     },
     "execution_count": 4,
     "metadata": {},
     "output_type": "execute_result"
    }
   ],
   "source": [
    "train_cats_dir"
   ]
  },
  {
   "cell_type": "code",
   "execution_count": 9,
   "metadata": {
    "scrolled": true
   },
   "outputs": [
    {
     "name": "stdout",
     "output_type": "stream",
     "text": [
      "total training cat images: 1000\n"
     ]
    }
   ],
   "source": [
    "print('total training cat images:', len(os.listdir(train_cats_dir)))"
   ]
  },
  {
   "cell_type": "code",
   "execution_count": 10,
   "metadata": {},
   "outputs": [
    {
     "name": "stdout",
     "output_type": "stream",
     "text": [
      "total training dog images: 1000\n"
     ]
    }
   ],
   "source": [
    "print('total training dog images:', len(os.listdir(train_dogs_dir)))"
   ]
  },
  {
   "cell_type": "code",
   "execution_count": 11,
   "metadata": {},
   "outputs": [
    {
     "name": "stdout",
     "output_type": "stream",
     "text": [
      "total validation cat images: 500\n"
     ]
    }
   ],
   "source": [
    "print('total validation cat images:', len(os.listdir(validation_cats_dir)))"
   ]
  },
  {
   "cell_type": "code",
   "execution_count": 12,
   "metadata": {},
   "outputs": [
    {
     "name": "stdout",
     "output_type": "stream",
     "text": [
      "total validation dog images: 500\n"
     ]
    }
   ],
   "source": [
    "print('total validation dog images:', len(os.listdir(validation_dogs_dir)))"
   ]
  },
  {
   "cell_type": "code",
   "execution_count": 13,
   "metadata": {},
   "outputs": [
    {
     "name": "stdout",
     "output_type": "stream",
     "text": [
      "total test cat images: 500\n"
     ]
    }
   ],
   "source": [
    "print('total test cat images:', len(os.listdir(test_cats_dir)))"
   ]
  },
  {
   "cell_type": "code",
   "execution_count": 14,
   "metadata": {},
   "outputs": [
    {
     "name": "stdout",
     "output_type": "stream",
     "text": [
      "total test dog images: 500\n"
     ]
    }
   ],
   "source": [
    "print('total test dog images:', len(os.listdir(test_dogs_dir)))"
   ]
  },
  {
   "cell_type": "markdown",
   "metadata": {},
   "source": [
    "<div style=\"direction:rtl;text-align:right;font-family:Tahoma\">\n",
    "با توجه به اینکه تعداد تصاویر یکسانی از سگ و گربه برداشته ایم معیار Accuracy معیارمناسبی برای ارزیابی خواهد بود.\n",
    "</div>"
   ]
  },
  {
   "cell_type": "markdown",
   "metadata": {},
   "source": [
    "## <div style=\"direction:rtl;text-align:right;font-family:B Lotus, B Nazanin, Tahoma\">تعریف معماری مدل (model architecture)</div>\n",
    "\n",
    "Since we are attacking a binary classification problem, we are ending the network with a single unit (a `Dense` layer of size 1) and a \n",
    "`sigmoid` activation. This unit will encode the probability that the network is looking at one class or the other."
   ]
  },
  {
   "cell_type": "code",
   "execution_count": 16,
   "metadata": {},
   "outputs": [],
   "source": [
    "from keras import layers\n",
    "from keras import models\n",
    "\n",
    "model = models.Sequential()\n",
    "model.add(layers.Conv2D(32, (3, 3), activation='relu',\n",
    "                        input_shape=(150, 150, 3)))\n",
    "model.add(layers.MaxPooling2D((2, 2)))\n",
    "model.add(layers.Conv2D(64, (3, 3), activation='relu'))\n",
    "model.add(layers.MaxPooling2D((2, 2)))\n",
    "model.add(layers.Conv2D(128, (3, 3), activation='relu'))\n",
    "model.add(layers.MaxPooling2D((2, 2)))\n",
    "model.add(layers.Conv2D(128, (3, 3), activation='relu'))\n",
    "model.add(layers.MaxPooling2D((2, 2)))\n",
    "model.add(layers.Flatten())\n",
    "model.add(layers.Dense(512, activation='relu'))\n",
    "model.add(layers.Dense(1, activation='sigmoid'))"
   ]
  },
  {
   "cell_type": "markdown",
   "metadata": {},
   "source": [
    "Let's take a look at how the dimensions of the feature maps change with every successive layer:"
   ]
  },
  {
   "cell_type": "code",
   "execution_count": 17,
   "metadata": {},
   "outputs": [
    {
     "name": "stdout",
     "output_type": "stream",
     "text": [
      "Model: \"sequential_1\"\n",
      "_________________________________________________________________\n",
      " Layer (type)                Output Shape              Param #   \n",
      "=================================================================\n",
      " conv2d_4 (Conv2D)           (None, 148, 148, 32)      896       \n",
      "                                                                 \n",
      " max_pooling2d_4 (MaxPooling  (None, 74, 74, 32)       0         \n",
      " 2D)                                                             \n",
      "                                                                 \n",
      " conv2d_5 (Conv2D)           (None, 72, 72, 64)        18496     \n",
      "                                                                 \n",
      " max_pooling2d_5 (MaxPooling  (None, 36, 36, 64)       0         \n",
      " 2D)                                                             \n",
      "                                                                 \n",
      " conv2d_6 (Conv2D)           (None, 34, 34, 128)       73856     \n",
      "                                                                 \n",
      " max_pooling2d_6 (MaxPooling  (None, 17, 17, 128)      0         \n",
      " 2D)                                                             \n",
      "                                                                 \n",
      " conv2d_7 (Conv2D)           (None, 15, 15, 128)       147584    \n",
      "                                                                 \n",
      " max_pooling2d_7 (MaxPooling  (None, 7, 7, 128)        0         \n",
      " 2D)                                                             \n",
      "                                                                 \n",
      " flatten_1 (Flatten)         (None, 6272)              0         \n",
      "                                                                 \n",
      " dense_2 (Dense)             (None, 512)               3211776   \n",
      "                                                                 \n",
      " dense_3 (Dense)             (None, 1)                 513       \n",
      "                                                                 \n",
      "=================================================================\n",
      "Total params: 3,453,121\n",
      "Trainable params: 3,453,121\n",
      "Non-trainable params: 0\n",
      "_________________________________________________________________\n"
     ]
    }
   ],
   "source": [
    "model.summary()"
   ]
  },
  {
   "cell_type": "markdown",
   "metadata": {},
   "source": [
    "For our compilation step, we'll go with the `RMSprop` optimizer as usual. Since we ended our network with a single sigmoid unit, we will \n",
    "use binary crossentropy as our loss (as a reminder, check out the table in Chapter 4, section 5 for a cheatsheet on what loss function to \n",
    "use in various situations)."
   ]
  },
  {
   "cell_type": "code",
   "execution_count": 19,
   "metadata": {},
   "outputs": [],
   "source": [
    "from keras import optimizers\n",
    "\n",
    "model.compile(loss='binary_crossentropy',\n",
    "              optimizer=optimizers.RMSprop(learning_rate=1e-4),\n",
    "              metrics=['acc'])"
   ]
  },
  {
   "cell_type": "markdown",
   "metadata": {},
   "source": [
    "## <div style=\"direction:rtl;text-align:right;font-family:B Lotus, B Nazanin, Tahoma\">  پیش پردازش داده (Data preprocessing)</div>\n",
    "\n",
    "* Read the picture files.\n",
    "* Decode the JPEG content to RGB grids of pixels.\n",
    "* Convert these into floating point tensors.\n",
    "* Rescale the pixel values (between 0 and 255) to the [0, 1] interval (as you know, neural networks prefer to deal with small input values).\n",
    "\n",
    "It may seem a bit daunting, but thankfully Keras has utilities to take care of these steps automatically. Keras has a module with image \n",
    "processing helper tools, located at `keras.preprocessing.image`. In particular, it contains the class `ImageDataGenerator` which allows to \n",
    "quickly set up Python generators that can automatically turn image files on disk into batches of pre-processed tensors. This is what we \n",
    "will use here.\n",
    "\n",
    "<div style=\"direction:rtl;text-align:right;font-family:Tahoma\">\n",
    "    اطلاعات بیشتر در مستندات Keras :\n",
    "</div>\n",
    "\n",
    "`https://keras.io/preprocessing/image/`"
   ]
  },
  {
   "cell_type": "code",
   "execution_count": 31,
   "metadata": {},
   "outputs": [
    {
     "name": "stdout",
     "output_type": "stream",
     "text": [
      "Found 2000 images belonging to 2 classes.\n",
      "Found 1000 images belonging to 2 classes.\n"
     ]
    }
   ],
   "source": [
    "from keras.preprocessing.image import ImageDataGenerator\n",
    "\n",
    "# All images will be rescaled by 1./255\n",
    "train_datagen = ImageDataGenerator(rescale=1./255)\n",
    "test_datagen = ImageDataGenerator(rescale=1./255)\n",
    "\n",
    "train_generator = train_datagen.flow_from_directory(\n",
    "        # This is the target directory\n",
    "        train_dir,\n",
    "        # All images will be resized to 150x150\n",
    "        target_size=(150, 150),\n",
    "        batch_size=20,\n",
    "        # Since we use binary_crossentropy loss, we need binary labels\n",
    "        class_mode='binary')\n",
    "\n",
    "validation_generator = test_datagen.flow_from_directory(\n",
    "        validation_dir,\n",
    "        target_size=(150, 150),\n",
    "        batch_size=20,\n",
    "        class_mode='binary')"
   ]
  },
  {
   "cell_type": "code",
   "execution_count": 27,
   "metadata": {},
   "outputs": [],
   "source": [
    "data, label = next(iter(train_generator))"
   ]
  },
  {
   "cell_type": "code",
   "execution_count": 29,
   "metadata": {},
   "outputs": [
    {
     "data": {
      "text/plain": [
       "(20, 2)"
      ]
     },
     "execution_count": 29,
     "metadata": {},
     "output_type": "execute_result"
    }
   ],
   "source": [
    "label.shape"
   ]
  },
  {
   "cell_type": "code",
   "execution_count": 30,
   "metadata": {},
   "outputs": [
    {
     "data": {
      "text/plain": [
       "array([[1., 0.],\n",
       "       [1., 0.],\n",
       "       [1., 0.],\n",
       "       [1., 0.],\n",
       "       [1., 0.],\n",
       "       [1., 0.],\n",
       "       [1., 0.],\n",
       "       [1., 0.],\n",
       "       [1., 0.],\n",
       "       [0., 1.],\n",
       "       [0., 1.],\n",
       "       [0., 1.],\n",
       "       [1., 0.],\n",
       "       [1., 0.],\n",
       "       [1., 0.],\n",
       "       [0., 1.],\n",
       "       [1., 0.],\n",
       "       [1., 0.],\n",
       "       [1., 0.],\n",
       "       [1., 0.]], dtype=float32)"
      ]
     },
     "execution_count": 30,
     "metadata": {},
     "output_type": "execute_result"
    }
   ],
   "source": [
    "label"
   ]
  },
  {
   "cell_type": "code",
   "execution_count": 28,
   "metadata": {},
   "outputs": [
    {
     "data": {
      "text/plain": [
       "(20, 150, 150, 3)"
      ]
     },
     "execution_count": 28,
     "metadata": {},
     "output_type": "execute_result"
    }
   ],
   "source": [
    "data.shape"
   ]
  },
  {
   "cell_type": "markdown",
   "metadata": {},
   "source": [
    "Let's take a look at the output of one of these generators: it yields batches of 150x150 RGB images (shape `(20, 150, 150, 3)`) and binary \n",
    "labels (shape `(20,)`). 20 is the number of samples in each batch (the batch size). Note that the generator yields these batches \n",
    "indefinitely: it just loops endlessly over the images present in the target folder. For this reason, we need to `break` the iteration loop \n",
    "at some point."
   ]
  },
  {
   "cell_type": "code",
   "execution_count": 32,
   "metadata": {},
   "outputs": [
    {
     "name": "stdout",
     "output_type": "stream",
     "text": [
      "data batch shape: (20, 150, 150, 3)\n",
      "labels batch shape: (20,)\n"
     ]
    }
   ],
   "source": [
    "for data_batch, labels_batch in train_generator:\n",
    "    print('data batch shape:', data_batch.shape)\n",
    "    print('labels batch shape:', labels_batch.shape)\n",
    "    break"
   ]
  },
  {
   "cell_type": "markdown",
   "metadata": {},
   "source": [
    "Let's fit our model to the data using the generator. We do it using the `fit_generator` method, the equivalent of `fit` for data generators \n",
    "like ours. It expects as first argument a Python generator that will yield batches of inputs and targets indefinitely, like ours does. \n",
    "Because the data is being generated endlessly, the generator needs to know example how many samples to draw from the generator before \n",
    "declaring an epoch over. This is the role of the `steps_per_epoch` argument: after having drawn `steps_per_epoch` batches from the \n",
    "generator, i.e. after having run for `steps_per_epoch` gradient descent steps, the fitting process will go to the next epoch. In our case, \n",
    "batches are 20-sample large, so it will take 100 batches until we see our target of 2000 samples.\n",
    "\n",
    "When using `fit_generator`, one may pass a `validation_data` argument, much like with the `fit` method. Importantly, this argument is \n",
    "allowed to be a data generator itself, but it could be a tuple of Numpy arrays as well. If you pass a generator as `validation_data`, then \n",
    "this generator is expected to yield batches of validation data endlessly, and thus you should also specify the `validation_steps` argument, \n",
    "which tells the process how many batches to draw from the validation generator for evaluation."
   ]
  },
  {
   "cell_type": "code",
   "execution_count": 33,
   "metadata": {},
   "outputs": [
    {
     "name": "stdout",
     "output_type": "stream",
     "text": [
      "Epoch 1/30\n",
      "100/100 [==============================] - 33s 319ms/step - loss: 0.6925 - acc: 0.5385 - val_loss: 0.6694 - val_acc: 0.6080\n",
      "Epoch 2/30\n",
      "100/100 [==============================] - 12s 120ms/step - loss: 0.6458 - acc: 0.6500 - val_loss: 0.7691 - val_acc: 0.5380\n",
      "Epoch 3/30\n",
      "100/100 [==============================] - 12s 116ms/step - loss: 0.6009 - acc: 0.6715 - val_loss: 0.6159 - val_acc: 0.6550\n",
      "Epoch 4/30\n",
      "100/100 [==============================] - 11s 114ms/step - loss: 0.5680 - acc: 0.7005 - val_loss: 0.5927 - val_acc: 0.6800\n",
      "Epoch 5/30\n",
      "100/100 [==============================] - 12s 117ms/step - loss: 0.5416 - acc: 0.7200 - val_loss: 0.6267 - val_acc: 0.6600\n",
      "Epoch 6/30\n",
      "100/100 [==============================] - 11s 107ms/step - loss: 0.5113 - acc: 0.7490 - val_loss: 0.5910 - val_acc: 0.6890\n",
      "Epoch 7/30\n",
      "100/100 [==============================] - 11s 112ms/step - loss: 0.4833 - acc: 0.7635 - val_loss: 0.5618 - val_acc: 0.6990\n",
      "Epoch 8/30\n",
      "100/100 [==============================] - 12s 115ms/step - loss: 0.4586 - acc: 0.7880 - val_loss: 0.5655 - val_acc: 0.7110\n",
      "Epoch 9/30\n",
      "100/100 [==============================] - 13s 131ms/step - loss: 0.4278 - acc: 0.8015 - val_loss: 0.5731 - val_acc: 0.7000\n",
      "Epoch 10/30\n",
      "100/100 [==============================] - 17s 173ms/step - loss: 0.4030 - acc: 0.8200 - val_loss: 0.5773 - val_acc: 0.7020\n",
      "Epoch 11/30\n",
      "100/100 [==============================] - 16s 164ms/step - loss: 0.3845 - acc: 0.8290 - val_loss: 0.5798 - val_acc: 0.7040\n",
      "Epoch 12/30\n",
      "100/100 [==============================] - 17s 169ms/step - loss: 0.3496 - acc: 0.8455 - val_loss: 0.5793 - val_acc: 0.7150\n",
      "Epoch 13/30\n",
      "100/100 [==============================] - 17s 166ms/step - loss: 0.3228 - acc: 0.8580 - val_loss: 0.5992 - val_acc: 0.7190\n",
      "Epoch 14/30\n",
      "100/100 [==============================] - 11s 109ms/step - loss: 0.3051 - acc: 0.8775 - val_loss: 0.6702 - val_acc: 0.6850\n",
      "Epoch 15/30\n",
      "100/100 [==============================] - 11s 108ms/step - loss: 0.2758 - acc: 0.8935 - val_loss: 0.5934 - val_acc: 0.7180\n",
      "Epoch 16/30\n",
      "100/100 [==============================] - 11s 109ms/step - loss: 0.2495 - acc: 0.8970 - val_loss: 0.6319 - val_acc: 0.7200\n",
      "Epoch 17/30\n",
      "100/100 [==============================] - 11s 108ms/step - loss: 0.2301 - acc: 0.9115 - val_loss: 0.6105 - val_acc: 0.7280\n",
      "Epoch 18/30\n",
      "100/100 [==============================] - 11s 109ms/step - loss: 0.2060 - acc: 0.9260 - val_loss: 0.6434 - val_acc: 0.7250\n",
      "Epoch 19/30\n",
      "100/100 [==============================] - 11s 108ms/step - loss: 0.1770 - acc: 0.9320 - val_loss: 0.6858 - val_acc: 0.7150\n",
      "Epoch 20/30\n",
      "100/100 [==============================] - 11s 108ms/step - loss: 0.1608 - acc: 0.9415 - val_loss: 0.7076 - val_acc: 0.7200\n",
      "Epoch 21/30\n",
      "100/100 [==============================] - 11s 111ms/step - loss: 0.1403 - acc: 0.9515 - val_loss: 0.9730 - val_acc: 0.6740\n",
      "Epoch 22/30\n",
      "100/100 [==============================] - 10s 103ms/step - loss: 0.1146 - acc: 0.9655 - val_loss: 0.9530 - val_acc: 0.6860\n",
      "Epoch 23/30\n",
      "100/100 [==============================] - 10s 102ms/step - loss: 0.1064 - acc: 0.9705 - val_loss: 0.8413 - val_acc: 0.7140\n",
      "Epoch 24/30\n",
      "100/100 [==============================] - 10s 103ms/step - loss: 0.0926 - acc: 0.9740 - val_loss: 0.8061 - val_acc: 0.7270\n",
      "Epoch 25/30\n",
      "100/100 [==============================] - 10s 102ms/step - loss: 0.0739 - acc: 0.9790 - val_loss: 0.8890 - val_acc: 0.7140\n",
      "Epoch 26/30\n",
      "100/100 [==============================] - 10s 103ms/step - loss: 0.0650 - acc: 0.9825 - val_loss: 0.9367 - val_acc: 0.7250\n",
      "Epoch 27/30\n",
      "100/100 [==============================] - 10s 102ms/step - loss: 0.0527 - acc: 0.9840 - val_loss: 1.0255 - val_acc: 0.7210\n",
      "Epoch 28/30\n",
      "100/100 [==============================] - 11s 105ms/step - loss: 0.0504 - acc: 0.9875 - val_loss: 1.0505 - val_acc: 0.7040\n",
      "Epoch 29/30\n",
      "100/100 [==============================] - 11s 109ms/step - loss: 0.0349 - acc: 0.9925 - val_loss: 1.1253 - val_acc: 0.7050\n",
      "Epoch 30/30\n",
      "100/100 [==============================] - 10s 102ms/step - loss: 0.0371 - acc: 0.9900 - val_loss: 1.1532 - val_acc: 0.7190\n"
     ]
    }
   ],
   "source": [
    "history = model.fit(\n",
    "      train_generator,\n",
    "      epochs=30,\n",
    "      validation_data=validation_generator)"
   ]
  },
  {
   "cell_type": "markdown",
   "metadata": {},
   "source": [
    "Let's plot the loss and accuracy of the model over the training and validation data during training:"
   ]
  },
  {
   "cell_type": "code",
   "execution_count": 34,
   "metadata": {},
   "outputs": [
    {
     "data": {
      "image/png": "[encoded data removed]",
      "text/plain": [
       "<Figure size 640x480 with 1 Axes>"
      ]
     },
     "metadata": {},
     "output_type": "display_data"
    },
    {
     "data": {
      "image/png": "[encoded data removed]",
      "text/plain": [
       "<Figure size 640x480 with 1 Axes>"
      ]
     },
     "metadata": {},
     "output_type": "display_data"
    }
   ],
   "source": [
    "import matplotlib.pyplot as plt\n",
    "%matplotlib inline\n",
    "acc = history.history['acc']\n",
    "val_acc = history.history['val_acc']\n",
    "loss = history.history['loss']\n",
    "val_loss = history.history['val_loss']\n",
    "\n",
    "epochs = range(len(acc))\n",
    "\n",
    "plt.plot(epochs, acc, 'bo', label='Training acc')\n",
    "plt.plot(epochs, val_acc, 'b', label='Validation acc')\n",
    "plt.title('Training and validation accuracy')\n",
    "plt.legend()\n",
    "\n",
    "plt.figure()\n",
    "\n",
    "plt.plot(epochs, loss, 'bo', label='Training loss')\n",
    "plt.plot(epochs, val_loss, 'b', label='Validation loss')\n",
    "plt.title('Training and validation loss')\n",
    "plt.legend()\n",
    "\n",
    "plt.show()"
   ]
  },
  {
   "cell_type": "markdown",
   "metadata": {},
   "source": [
    "These plots are characteristic of overfitting. Our training accuracy increases linearly over time, until it reaches nearly 100%, while our \n",
    "validation accuracy stalls at 70-72%. Our validation loss reaches its minimum after only five epochs then stalls, while the training loss \n",
    "keeps decreasing linearly until it reaches nearly 0.\n",
    "\n",
    "Because we only have relatively few training samples (2000), overfitting is going to be our number one concern.\n",
    "Let's train our network using data augmentation and dropout:"
   ]
  },
  {
   "cell_type": "markdown",
   "metadata": {},
   "source": [
    "## <div style=\"direction:rtl;text-align:right;font-family:B Lotus, B Nazanin, Tahoma\">شبکه با Dropout</div>"
   ]
  },
  {
   "cell_type": "code",
   "execution_count": 17,
   "metadata": {},
   "outputs": [
    {
     "name": "stdout",
     "output_type": "stream",
     "text": [
      "Epoch 1/100\n",
      "100/100 [==============================] - 14s 140ms/step - loss: 0.6915 - acc: 0.5220 - val_loss: 0.6812 - val_acc: 0.5070\n",
      "Epoch 2/100\n",
      "100/100 [==============================] - 13s 128ms/step - loss: 0.6726 - acc: 0.5910 - val_loss: 0.6958 - val_acc: 0.5490\n",
      "Epoch 3/100\n",
      "100/100 [==============================] - 13s 127ms/step - loss: 0.6395 - acc: 0.6325 - val_loss: 0.6757 - val_acc: 0.5740\n",
      "Epoch 4/100\n",
      "100/100 [==============================] - 13s 127ms/step - loss: 0.5973 - acc: 0.6840 - val_loss: 0.6083 - val_acc: 0.6690\n",
      "Epoch 5/100\n",
      "100/100 [==============================] - 13s 128ms/step - loss: 0.5563 - acc: 0.7150 - val_loss: 0.5897 - val_acc: 0.6700\n",
      "Epoch 6/100\n",
      "100/100 [==============================] - 13s 128ms/step - loss: 0.5454 - acc: 0.7250 - val_loss: 0.5867 - val_acc: 0.6700\n",
      "Epoch 7/100\n",
      "100/100 [==============================] - 13s 128ms/step - loss: 0.5314 - acc: 0.7325 - val_loss: 0.6768 - val_acc: 0.6480\n",
      "Epoch 8/100\n",
      "100/100 [==============================] - 13s 127ms/step - loss: 0.5143 - acc: 0.7495 - val_loss: 0.5965 - val_acc: 0.6820\n",
      "Epoch 9/100\n",
      "100/100 [==============================] - 13s 127ms/step - loss: 0.4845 - acc: 0.7765 - val_loss: 0.5718 - val_acc: 0.7030\n",
      "Epoch 10/100\n",
      "100/100 [==============================] - 13s 129ms/step - loss: 0.4751 - acc: 0.7720 - val_loss: 0.5514 - val_acc: 0.7080\n",
      "Epoch 11/100\n",
      "100/100 [==============================] - 13s 129ms/step - loss: 0.4528 - acc: 0.7975 - val_loss: 0.5415 - val_acc: 0.7240\n",
      "Epoch 12/100\n",
      "100/100 [==============================] - 13s 128ms/step - loss: 0.4319 - acc: 0.7960 - val_loss: 0.5437 - val_acc: 0.7220\n",
      "Epoch 13/100\n",
      "100/100 [==============================] - 13s 128ms/step - loss: 0.4330 - acc: 0.7970 - val_loss: 0.5356 - val_acc: 0.7340\n",
      "Epoch 14/100\n",
      "100/100 [==============================] - 13s 128ms/step - loss: 0.3992 - acc: 0.8175 - val_loss: 0.5457 - val_acc: 0.7360\n",
      "Epoch 15/100\n",
      "100/100 [==============================] - 13s 128ms/step - loss: 0.3902 - acc: 0.8305 - val_loss: 0.5515 - val_acc: 0.7310\n",
      "Epoch 16/100\n",
      "100/100 [==============================] - 13s 128ms/step - loss: 0.3651 - acc: 0.8380 - val_loss: 0.5452 - val_acc: 0.7410\n",
      "Epoch 17/100\n",
      "100/100 [==============================] - 13s 128ms/step - loss: 0.3582 - acc: 0.8460 - val_loss: 0.5420 - val_acc: 0.7300\n",
      "Epoch 18/100\n",
      "100/100 [==============================] - 13s 128ms/step - loss: 0.3387 - acc: 0.8555 - val_loss: 0.5957 - val_acc: 0.7400\n",
      "Epoch 19/100\n",
      "100/100 [==============================] - 13s 129ms/step - loss: 0.3258 - acc: 0.8545 - val_loss: 0.5654 - val_acc: 0.7470\n",
      "Epoch 20/100\n",
      "100/100 [==============================] - 13s 128ms/step - loss: 0.3055 - acc: 0.8710 - val_loss: 0.5745 - val_acc: 0.7320\n",
      "Epoch 21/100\n",
      "100/100 [==============================] - 13s 129ms/step - loss: 0.2874 - acc: 0.8740 - val_loss: 0.5539 - val_acc: 0.7510\n",
      "Epoch 22/100\n",
      "100/100 [==============================] - 13s 129ms/step - loss: 0.2944 - acc: 0.8805 - val_loss: 0.5795 - val_acc: 0.7450\n",
      "Epoch 23/100\n",
      "100/100 [==============================] - 13s 128ms/step - loss: 0.2769 - acc: 0.8795 - val_loss: 0.5777 - val_acc: 0.7570\n",
      "Epoch 24/100\n",
      "100/100 [==============================] - 13s 129ms/step - loss: 0.2563 - acc: 0.8940 - val_loss: 0.5677 - val_acc: 0.7550\n",
      "Epoch 25/100\n",
      "100/100 [==============================] - 13s 129ms/step - loss: 0.2575 - acc: 0.8925 - val_loss: 0.5461 - val_acc: 0.7570\n",
      "Epoch 26/100\n",
      "100/100 [==============================] - 13s 130ms/step - loss: 0.2396 - acc: 0.9025 - val_loss: 0.5600 - val_acc: 0.7600\n",
      "Epoch 27/100\n",
      "100/100 [==============================] - 13s 128ms/step - loss: 0.2237 - acc: 0.9160 - val_loss: 0.5735 - val_acc: 0.7600\n",
      "Epoch 28/100\n",
      "100/100 [==============================] - 13s 129ms/step - loss: 0.2203 - acc: 0.9110 - val_loss: 0.5838 - val_acc: 0.7440\n",
      "Epoch 29/100\n",
      "100/100 [==============================] - 12s 123ms/step - loss: 0.1963 - acc: 0.9320 - val_loss: 0.5757 - val_acc: 0.7620\n",
      "Epoch 30/100\n",
      "100/100 [==============================] - 12s 123ms/step - loss: 0.1909 - acc: 0.9235 - val_loss: 0.6068 - val_acc: 0.7540\n",
      "Epoch 31/100\n",
      "100/100 [==============================] - 12s 123ms/step - loss: 0.1840 - acc: 0.9280 - val_loss: 0.5872 - val_acc: 0.7670\n",
      "Epoch 32/100\n",
      "100/100 [==============================] - 12s 124ms/step - loss: 0.1834 - acc: 0.9295 - val_loss: 0.6143 - val_acc: 0.7610\n",
      "Epoch 33/100\n",
      "100/100 [==============================] - 12s 123ms/step - loss: 0.1588 - acc: 0.9475 - val_loss: 0.6235 - val_acc: 0.7620\n",
      "Epoch 34/100\n",
      "100/100 [==============================] - 12s 123ms/step - loss: 0.1596 - acc: 0.9375 - val_loss: 0.6614 - val_acc: 0.7650\n",
      "Epoch 35/100\n",
      "100/100 [==============================] - 12s 123ms/step - loss: 0.1581 - acc: 0.9390 - val_loss: 0.6994 - val_acc: 0.7410\n",
      "Epoch 36/100\n",
      "100/100 [==============================] - 12s 124ms/step - loss: 0.1465 - acc: 0.9410 - val_loss: 0.6495 - val_acc: 0.7550\n",
      "Epoch 37/100\n",
      "100/100 [==============================] - 12s 123ms/step - loss: 0.1356 - acc: 0.9520 - val_loss: 0.6432 - val_acc: 0.7630\n",
      "Epoch 38/100\n",
      "100/100 [==============================] - 12s 123ms/step - loss: 0.1271 - acc: 0.9550 - val_loss: 0.6282 - val_acc: 0.7700\n",
      "Epoch 39/100\n",
      "100/100 [==============================] - 12s 123ms/step - loss: 0.1192 - acc: 0.9605 - val_loss: 0.6786 - val_acc: 0.7630\n",
      "Epoch 40/100\n",
      "100/100 [==============================] - 12s 123ms/step - loss: 0.1239 - acc: 0.9535 - val_loss: 0.6814 - val_acc: 0.7570\n",
      "Epoch 41/100\n",
      "100/100 [==============================] - 12s 124ms/step - loss: 0.1155 - acc: 0.9585 - val_loss: 0.6910 - val_acc: 0.7550\n",
      "Epoch 42/100\n",
      "100/100 [==============================] - 12s 124ms/step - loss: 0.0936 - acc: 0.9690 - val_loss: 0.7495 - val_acc: 0.7700\n",
      "Epoch 43/100\n",
      "100/100 [==============================] - 12s 123ms/step - loss: 0.1073 - acc: 0.9565 - val_loss: 0.6949 - val_acc: 0.7680\n",
      "Epoch 44/100\n",
      "100/100 [==============================] - 12s 125ms/step - loss: 0.0899 - acc: 0.9690 - val_loss: 0.7179 - val_acc: 0.7560\n",
      "Epoch 45/100\n",
      "100/100 [==============================] - 12s 124ms/step - loss: 0.0886 - acc: 0.9665 - val_loss: 0.6943 - val_acc: 0.7820\n",
      "Epoch 46/100\n",
      "100/100 [==============================] - 12s 124ms/step - loss: 0.0752 - acc: 0.9750 - val_loss: 0.7567 - val_acc: 0.7740\n",
      "Epoch 47/100\n",
      "100/100 [==============================] - 12s 124ms/step - loss: 0.0755 - acc: 0.9750 - val_loss: 0.9447 - val_acc: 0.7350\n",
      "Epoch 48/100\n",
      "100/100 [==============================] - 12s 123ms/step - loss: 0.0764 - acc: 0.9720 - val_loss: 0.8899 - val_acc: 0.7590\n",
      "Epoch 49/100\n",
      "100/100 [==============================] - 12s 124ms/step - loss: 0.0741 - acc: 0.9775 - val_loss: 0.8029 - val_acc: 0.7630\n",
      "Epoch 50/100\n",
      "100/100 [==============================] - 12s 123ms/step - loss: 0.0656 - acc: 0.9750 - val_loss: 0.8256 - val_acc: 0.7530\n",
      "Epoch 51/100\n",
      "100/100 [==============================] - 12s 124ms/step - loss: 0.0579 - acc: 0.9840 - val_loss: 0.8192 - val_acc: 0.7690\n",
      "Epoch 52/100\n",
      "100/100 [==============================] - 12s 124ms/step - loss: 0.0608 - acc: 0.9790 - val_loss: 0.8388 - val_acc: 0.7800\n",
      "Epoch 53/100\n",
      "100/100 [==============================] - 12s 123ms/step - loss: 0.0651 - acc: 0.9805 - val_loss: 0.8266 - val_acc: 0.7680\n",
      "Epoch 54/100\n",
      "100/100 [==============================] - 12s 123ms/step - loss: 0.0627 - acc: 0.9785 - val_loss: 0.9087 - val_acc: 0.7540\n",
      "Epoch 55/100\n",
      "100/100 [==============================] - 12s 123ms/step - loss: 0.0570 - acc: 0.9820 - val_loss: 0.8696 - val_acc: 0.7640\n",
      "Epoch 56/100\n",
      "100/100 [==============================] - 12s 124ms/step - loss: 0.0560 - acc: 0.9830 - val_loss: 0.9158 - val_acc: 0.7780\n",
      "Epoch 57/100\n",
      "100/100 [==============================] - 13s 125ms/step - loss: 0.0511 - acc: 0.9830 - val_loss: 0.9401 - val_acc: 0.7790\n",
      "Epoch 58/100\n",
      "100/100 [==============================] - 12s 125ms/step - loss: 0.0456 - acc: 0.9850 - val_loss: 0.9241 - val_acc: 0.7710\n",
      "Epoch 59/100\n",
      "100/100 [==============================] - 12s 123ms/step - loss: 0.0503 - acc: 0.9815 - val_loss: 0.8782 - val_acc: 0.7730\n",
      "Epoch 60/100\n",
      "100/100 [==============================] - 12s 124ms/step - loss: 0.0463 - acc: 0.9845 - val_loss: 0.9701 - val_acc: 0.7620\n"
     ]
    },
    {
     "name": "stdout",
     "output_type": "stream",
     "text": [
      "Epoch 61/100\n",
      "100/100 [==============================] - 12s 124ms/step - loss: 0.0446 - acc: 0.9855 - val_loss: 0.9633 - val_acc: 0.7660\n",
      "Epoch 62/100\n",
      "100/100 [==============================] - 12s 124ms/step - loss: 0.0351 - acc: 0.9905 - val_loss: 1.0186 - val_acc: 0.7610\n",
      "Epoch 63/100\n",
      "100/100 [==============================] - 12s 124ms/step - loss: 0.0574 - acc: 0.9775 - val_loss: 0.9036 - val_acc: 0.7680\n",
      "Epoch 64/100\n",
      "100/100 [==============================] - 12s 123ms/step - loss: 0.0357 - acc: 0.9875 - val_loss: 1.0182 - val_acc: 0.7650\n",
      "Epoch 65/100\n",
      "100/100 [==============================] - 12s 124ms/step - loss: 0.0403 - acc: 0.9865 - val_loss: 1.1160 - val_acc: 0.7610\n",
      "Epoch 66/100\n",
      "100/100 [==============================] - 12s 123ms/step - loss: 0.0414 - acc: 0.9865 - val_loss: 1.0252 - val_acc: 0.7580\n",
      "Epoch 67/100\n",
      "100/100 [==============================] - 12s 124ms/step - loss: 0.0317 - acc: 0.9890 - val_loss: 1.0357 - val_acc: 0.7750\n",
      "Epoch 68/100\n",
      "100/100 [==============================] - 12s 124ms/step - loss: 0.0348 - acc: 0.9885 - val_loss: 0.9770 - val_acc: 0.7580\n",
      "Epoch 69/100\n",
      "100/100 [==============================] - 12s 124ms/step - loss: 0.0361 - acc: 0.9890 - val_loss: 1.0370 - val_acc: 0.7640\n",
      "Epoch 70/100\n",
      "100/100 [==============================] - 12s 123ms/step - loss: 0.0330 - acc: 0.9905 - val_loss: 1.0350 - val_acc: 0.7700\n",
      "Epoch 71/100\n",
      "100/100 [==============================] - 12s 124ms/step - loss: 0.0394 - acc: 0.9850 - val_loss: 1.0132 - val_acc: 0.7710\n",
      "Epoch 72/100\n",
      "100/100 [==============================] - 12s 123ms/step - loss: 0.0312 - acc: 0.9910 - val_loss: 1.0268 - val_acc: 0.7750\n",
      "Epoch 73/100\n",
      "100/100 [==============================] - 12s 123ms/step - loss: 0.0265 - acc: 0.9900 - val_loss: 1.0852 - val_acc: 0.7690\n",
      "Epoch 74/100\n",
      "100/100 [==============================] - 12s 124ms/step - loss: 0.0327 - acc: 0.9905 - val_loss: 1.1617 - val_acc: 0.7590\n",
      "Epoch 75/100\n",
      "100/100 [==============================] - 12s 124ms/step - loss: 0.0360 - acc: 0.9875 - val_loss: 1.0486 - val_acc: 0.7710\n",
      "Epoch 76/100\n",
      "100/100 [==============================] - 12s 124ms/step - loss: 0.0244 - acc: 0.9915 - val_loss: 1.1726 - val_acc: 0.7530\n",
      "Epoch 77/100\n",
      "100/100 [==============================] - 12s 124ms/step - loss: 0.0326 - acc: 0.9875 - val_loss: 1.0927 - val_acc: 0.7650\n",
      "Epoch 78/100\n",
      "100/100 [==============================] - 12s 125ms/step - loss: 0.0404 - acc: 0.9865 - val_loss: 1.1501 - val_acc: 0.7710\n",
      "Epoch 79/100\n",
      "100/100 [==============================] - 12s 124ms/step - loss: 0.0225 - acc: 0.9935 - val_loss: 1.1750 - val_acc: 0.7550\n",
      "Epoch 80/100\n",
      "100/100 [==============================] - 12s 123ms/step - loss: 0.0261 - acc: 0.9935 - val_loss: 1.1779 - val_acc: 0.7660\n",
      "Epoch 81/100\n",
      "100/100 [==============================] - 12s 123ms/step - loss: 0.0240 - acc: 0.9910 - val_loss: 1.0923 - val_acc: 0.7710\n",
      "Epoch 82/100\n",
      "100/100 [==============================] - 12s 123ms/step - loss: 0.0274 - acc: 0.9885 - val_loss: 1.2626 - val_acc: 0.7550\n",
      "Epoch 83/100\n",
      "100/100 [==============================] - 12s 124ms/step - loss: 0.0255 - acc: 0.9920 - val_loss: 1.1342 - val_acc: 0.7650\n",
      "Epoch 84/100\n",
      "100/100 [==============================] - 12s 123ms/step - loss: 0.0257 - acc: 0.9905 - val_loss: 1.0933 - val_acc: 0.7660\n",
      "Epoch 85/100\n",
      "100/100 [==============================] - 12s 124ms/step - loss: 0.0218 - acc: 0.9910 - val_loss: 1.1167 - val_acc: 0.7690\n",
      "Epoch 86/100\n",
      "100/100 [==============================] - 12s 124ms/step - loss: 0.0230 - acc: 0.9920 - val_loss: 1.2408 - val_acc: 0.7670\n",
      "Epoch 87/100\n",
      "100/100 [==============================] - 12s 124ms/step - loss: 0.0200 - acc: 0.9935 - val_loss: 1.2296 - val_acc: 0.7600\n",
      "Epoch 88/100\n",
      "100/100 [==============================] - 12s 123ms/step - loss: 0.0158 - acc: 0.9950 - val_loss: 1.2875 - val_acc: 0.7630\n",
      "Epoch 89/100\n",
      "100/100 [==============================] - 12s 123ms/step - loss: 0.0219 - acc: 0.9920 - val_loss: 1.2603 - val_acc: 0.7540\n",
      "Epoch 90/100\n",
      "100/100 [==============================] - 12s 123ms/step - loss: 0.0222 - acc: 0.9920 - val_loss: 1.1655 - val_acc: 0.7610\n",
      "Epoch 91/100\n",
      "100/100 [==============================] - 12s 124ms/step - loss: 0.0230 - acc: 0.9935 - val_loss: 1.1637 - val_acc: 0.7640\n",
      "Epoch 92/100\n",
      "100/100 [==============================] - 12s 123ms/step - loss: 0.0246 - acc: 0.9925 - val_loss: 1.1986 - val_acc: 0.7780\n",
      "Epoch 93/100\n",
      "100/100 [==============================] - 12s 124ms/step - loss: 0.0251 - acc: 0.9910 - val_loss: 1.1537 - val_acc: 0.7700\n",
      "Epoch 94/100\n",
      "100/100 [==============================] - 12s 124ms/step - loss: 0.0204 - acc: 0.9915 - val_loss: 1.2301 - val_acc: 0.7670\n",
      "Epoch 95/100\n",
      "100/100 [==============================] - 12s 124ms/step - loss: 0.0255 - acc: 0.9910 - val_loss: 1.3497 - val_acc: 0.7650\n",
      "Epoch 96/100\n",
      "100/100 [==============================] - 12s 124ms/step - loss: 0.0242 - acc: 0.9915 - val_loss: 1.2397 - val_acc: 0.7640\n",
      "Epoch 97/100\n",
      "100/100 [==============================] - 12s 123ms/step - loss: 0.0292 - acc: 0.9910 - val_loss: 1.1892 - val_acc: 0.7750\n",
      "Epoch 98/100\n",
      "100/100 [==============================] - 12s 123ms/step - loss: 0.0242 - acc: 0.9930 - val_loss: 1.2302 - val_acc: 0.7660\n",
      "Epoch 99/100\n",
      "100/100 [==============================] - 12s 124ms/step - loss: 0.0229 - acc: 0.9915 - val_loss: 1.3007 - val_acc: 0.7590\n",
      "Epoch 100/100\n",
      "100/100 [==============================] - 13s 125ms/step - loss: 0.0197 - acc: 0.9920 - val_loss: 1.2037 - val_acc: 0.7760\n"
     ]
    }
   ],
   "source": [
    "model = models.Sequential()\n",
    "model.add(layers.Conv2D(32, (3, 3), activation='relu',\n",
    "                        input_shape=(150, 150, 3)))\n",
    "model.add(layers.MaxPooling2D((2, 2)))\n",
    "model.add(layers.Conv2D(64, (3, 3), activation='relu'))\n",
    "model.add(layers.MaxPooling2D((2, 2)))\n",
    "model.add(layers.Conv2D(128, (3, 3), activation='relu'))\n",
    "model.add(layers.MaxPooling2D((2, 2)))\n",
    "model.add(layers.Conv2D(128, (3, 3), activation='relu'))\n",
    "model.add(layers.MaxPooling2D((2, 2)))\n",
    "model.add(layers.Flatten())\n",
    "model.add(layers.Dropout(0.5))\n",
    "model.add(layers.Dense(512, activation='relu'))\n",
    "model.add(layers.Dense(1, activation='sigmoid'))\n",
    "\n",
    "model.compile(loss='binary_crossentropy',\n",
    "              optimizer=optimizers.RMSprop(lr=1e-4),\n",
    "              metrics=['acc'])\n",
    "\n",
    "history = model.fit(\n",
    "      train_generator,\n",
    "      epochs=100,\n",
    "      validation_data=validation_generator)"
   ]
  },
  {
   "cell_type": "markdown",
   "metadata": {},
   "source": [
    "Let's plot our results again:"
   ]
  },
  {
   "cell_type": "code",
   "execution_count": 18,
   "metadata": {},
   "outputs": [
    {
     "data": {
      "image/png": "[encoded data removed]",
      "text/plain": [
       "<Figure size 432x288 with 1 Axes>"
      ]
     },
     "metadata": {
      "needs_background": "light"
     },
     "output_type": "display_data"
    },
    {
     "data": {
      "image/png": "[encoded data removed]",
      "text/plain": [
       "<Figure size 432x288 with 1 Axes>"
      ]
     },
     "metadata": {
      "needs_background": "light"
     },
     "output_type": "display_data"
    }
   ],
   "source": [
    "acc = history.history['acc']\n",
    "val_acc = history.history['val_acc']\n",
    "loss = history.history['loss']\n",
    "val_loss = history.history['val_loss']\n",
    "\n",
    "epochs = range(len(acc))\n",
    "\n",
    "plt.plot(epochs, acc, 'bo', label='Training acc')\n",
    "plt.plot(epochs, val_acc, 'b', label='Validation acc')\n",
    "plt.title('Training and validation accuracy')\n",
    "plt.legend()\n",
    "\n",
    "plt.figure()\n",
    "\n",
    "plt.plot(epochs, loss, 'bo', label='Training loss')\n",
    "plt.plot(epochs, val_loss, 'b', label='Validation loss')\n",
    "plt.title('Training and validation loss')\n",
    "plt.legend()\n",
    "\n",
    "plt.show()"
   ]
  },
  {
   "cell_type": "markdown",
   "metadata": {},
   "source": [
    "## <div style=\"direction:rtl;text-align:right;font-family:B Lotus, B Nazanin, Tahoma\">ذخیره کردن مدل</div>\n"
   ]
  },
  {
   "cell_type": "code",
   "execution_count": 35,
   "metadata": {},
   "outputs": [],
   "source": [
    "model.save('cats_and_dogs_small_1.keras')"
   ]
  },
  {
   "cell_type": "markdown",
   "metadata": {},
   "source": [
    "<div class=\"alert alert-block alert-info\">\n",
    "<div style=\"direction:rtl;text-align:right;font-family:B Lotus, B Nazanin, Tahoma\"> دوره یادگیری عمیق<br>علیرضا اخوان پور\n",
    "</div>\n",
    "<a href=\"http://class.vision\">Class.Vision</a> - <a href=\"http://AkhavanPour.ir\">AkhavanPour.ir</a> - <a href=\"https://github.com/Alireza-Akhavan/\">GitHub</a>\n",
    "\n",
    "</div>"
   ]
  },
  {
   "cell_type": "code",
   "execution_count": null,
   "metadata": {},
   "outputs": [],
   "source": []
  }
 ],
 "metadata": {
  "anaconda-cloud": {},
  "kernelspec": {
   "display_name": "Python 3 (ipykernel)",
   "language": "python",
   "name": "python3"
  },
  "language_info": {
   "codemirror_mode": {
    "name": "ipython",
    "version": 3
   },
   "file_extension": ".py",
   "mimetype": "text/x-python",
   "name": "python",
   "nbconvert_exporter": "python",
   "pygments_lexer": "ipython3",
   "version": "3.10.13"
  }
 },
 "nbformat": 4,
 "nbformat_minor": 4
}
