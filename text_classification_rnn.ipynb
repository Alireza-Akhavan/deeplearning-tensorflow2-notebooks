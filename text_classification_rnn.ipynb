{
  "cells": [
    {
      "cell_type": "markdown",
      "metadata": {
        "id": "hX4n9TsbGw-f"
      },
      "source": [
        "##### Copyright 2018 The TensorFlow Authors."
      ]
    },
    {
      "cell_type": "code",
      "execution_count": null,
      "metadata": {
        "cellView": "form",
        "id": "0nbI5DtDGw-i"
      },
      "outputs": [],
      "source": [
        "#@title Licensed under the Apache License, Version 2.0 (the \"License\");\n",
        "# you may not use this file except in compliance with the License.\n",
        "# You may obtain a copy of the License at\n",
        "#\n",
        "# https://www.apache.org/licenses/LICENSE-2.0\n",
        "#\n",
        "# Unless required by applicable law or agreed to in writing, software\n",
        "# distributed under the License is distributed on an \"AS IS\" BASIS,\n",
        "# WITHOUT WARRANTIES OR CONDITIONS OF ANY KIND, either express or implied.\n",
        "# See the License for the specific language governing permissions and\n",
        "# limitations under the License."
      ]
    },
    {
      "cell_type": "markdown",
      "metadata": {
        "id": "9TnJztDZGw-n"
      },
      "source": [
        "# Text classification with an RNN"
      ]
    },
    {
      "cell_type": "markdown",
      "metadata": {
        "id": "AfN3bMR5Gw-o"
      },
      "source": [
        "<table class=\"tfo-notebook-buttons\" align=\"left\">\n",
        "  <td>\n",
        "    <a target=\"_blank\" href=\"https://www.tensorflow.org/text/tutorials/text_classification_rnn\"><img src=\"https://www.tensorflow.org/images/tf_logo_32px.png\" />View on TensorFlow.org</a>\n",
        "  </td>\n",
        "  <td>\n",
        "    <a target=\"_blank\" href=\"https://colab.research.google.com/github/tensorflow/text/blob/master/docs/tutorials/text_classification_rnn.ipynb\"><img src=\"https://www.tensorflow.org/images/colab_logo_32px.png\" />Run in Google Colab</a>\n",
        "  </td>\n",
        "  <td>\n",
        "    <a target=\"_blank\" href=\"https://github.com/tensorflow/text/blob/master/docs/tutorials/text_classification_rnn.ipynb\"><img src=\"https://www.tensorflow.org/images/GitHub-Mark-32px.png\" />View source on GitHub</a>\n",
        "  </td>\n",
        "  <td>\n",
        "    <a href=\"https://storage.googleapis.com/tensorflow_docs/text/docs/tutorials/text_classification_rnn.ipynb\"><img src=\"https://www.tensorflow.org/images/download_logo_32px.png\" />Download notebook</a>\n",
        "  </td>\n",
        "</table>"
      ]
    },
    {
      "cell_type": "markdown",
      "metadata": {
        "id": "lUWearf0Gw-p"
      },
      "source": [
        "This text classification tutorial trains a [recurrent neural network](https://developers.google.com/machine-learning/glossary/#recurrent_neural_network) on the [IMDB large movie review dataset](http://ai.stanford.edu/~amaas/data/sentiment/) for sentiment analysis."
      ]
    },
    {
      "cell_type": "markdown",
      "metadata": {
        "id": "_2VQo4bajwUU"
      },
      "source": [
        "## Setup"
      ]
    },
    {
      "cell_type": "code",
      "execution_count": 1,
      "metadata": {
        "id": "z682XYsrjkY9"
      },
      "outputs": [],
      "source": [
        "import numpy as np\n",
        "\n",
        "import tensorflow_datasets as tfds\n",
        "import tensorflow as tf\n",
        "\n",
        "tfds.disable_progress_bar()"
      ]
    },
    {
      "cell_type": "markdown",
      "metadata": {
        "id": "1rXHa-w9JZhb"
      },
      "source": [
        "Import `matplotlib` and create a helper function to plot graphs:"
      ]
    },
    {
      "cell_type": "code",
      "execution_count": 2,
      "metadata": {
        "id": "Mp1Z7P9pYRSK"
      },
      "outputs": [],
      "source": [
        "import matplotlib.pyplot as plt\n",
        "\n",
        "\n",
        "def plot_graphs(history, metric):\n",
        "  plt.plot(history.history[metric])\n",
        "  plt.plot(history.history['val_'+metric], '')\n",
        "  plt.xlabel(\"Epochs\")\n",
        "  plt.ylabel(metric)\n",
        "  plt.legend([metric, 'val_'+metric])"
      ]
    },
    {
      "cell_type": "markdown",
      "metadata": {
        "id": "pRmMubr0jrE2"
      },
      "source": [
        "## Setup input pipeline\n",
        "\n",
        "\n",
        "The IMDB large movie review dataset is a *binary classification* dataset—all the reviews have either a *positive* or *negative* sentiment.\n",
        "\n",
        "Download the dataset using [TFDS](https://www.tensorflow.org/datasets). See the [loading text tutorial](https://www.tensorflow.org/tutorials/load_data/text) for details on how to load this sort of data manually.\n"
      ]
    },
    {
      "cell_type": "code",
      "execution_count": 3,
      "metadata": {
        "id": "SHRwRoP2nVHX",
        "outputId": "d22f2935-44c7-4d18-e1ae-4a15f4e5030a",
        "colab": {
          "base_uri": "https://localhost:8080/"
        }
      },
      "outputs": [
        {
          "output_type": "stream",
          "name": "stderr",
          "text": [
            "WARNING:absl:Variant folder /root/tensorflow_datasets/imdb_reviews/plain_text/1.0.0 has no dataset_info.json\n"
          ]
        },
        {
          "output_type": "stream",
          "name": "stdout",
          "text": [
            "Downloading and preparing dataset Unknown size (download: Unknown size, generated: Unknown size, total: Unknown size) to /root/tensorflow_datasets/imdb_reviews/plain_text/1.0.0...\n",
            "Dataset imdb_reviews downloaded and prepared to /root/tensorflow_datasets/imdb_reviews/plain_text/1.0.0. Subsequent calls will reuse this data.\n"
          ]
        },
        {
          "output_type": "execute_result",
          "data": {
            "text/plain": [
              "(TensorSpec(shape=(), dtype=tf.string, name=None),\n",
              " TensorSpec(shape=(), dtype=tf.int64, name=None))"
            ]
          },
          "metadata": {},
          "execution_count": 3
        }
      ],
      "source": [
        "dataset, info = tfds.load('imdb_reviews', with_info=True,\n",
        "                          as_supervised=True)\n",
        "train_dataset, test_dataset = dataset['train'], dataset['test']\n",
        "\n",
        "train_dataset.element_spec"
      ]
    },
    {
      "cell_type": "markdown",
      "metadata": {
        "id": "nWA4c2ir7g6p"
      },
      "source": [
        "Initially this returns a dataset of (text, label pairs):"
      ]
    },
    {
      "cell_type": "code",
      "execution_count": 4,
      "metadata": {
        "id": "vd4_BGKyurao",
        "outputId": "d1c30685-eb61-4a54-eda5-a3c0d820c9fc",
        "colab": {
          "base_uri": "https://localhost:8080/"
        }
      },
      "outputs": [
        {
          "output_type": "stream",
          "name": "stdout",
          "text": [
            "text:  b\"This was an absolutely terrible movie. Don't be lured in by Christopher Walken or Michael Ironside. Both are great actors, but this must simply be their worst role in history. Even their great acting could not redeem this movie's ridiculous storyline. This movie is an early nineties US propaganda piece. The most pathetic scenes were those when the Columbian rebels were making their cases for revolutions. Maria Conchita Alonso appeared phony, and her pseudo-love affair with Walken was nothing but a pathetic emotional plug in a movie that was devoid of any real meaning. I am disappointed that there are movies like this, ruining actor's like Christopher Walken's good name. I could barely sit through it.\"\n",
            "label:  0\n"
          ]
        }
      ],
      "source": [
        "for example, label in train_dataset.take(1):\n",
        "  print('text: ', example.numpy())\n",
        "  print('label: ', label.numpy())"
      ]
    },
    {
      "cell_type": "markdown",
      "metadata": {
        "id": "z2qVJzcEluH_"
      },
      "source": [
        "Next shuffle the data for training and create batches of these `(text, label)` pairs:"
      ]
    },
    {
      "cell_type": "code",
      "execution_count": 5,
      "metadata": {
        "id": "dDsCaZCDYZgm"
      },
      "outputs": [],
      "source": [
        "BUFFER_SIZE = 10000\n",
        "BATCH_SIZE = 64"
      ]
    },
    {
      "cell_type": "code",
      "execution_count": 6,
      "metadata": {
        "id": "VznrltNOnUc5"
      },
      "outputs": [],
      "source": [
        "train_dataset = train_dataset.shuffle(BUFFER_SIZE).batch(BATCH_SIZE).prefetch(tf.data.AUTOTUNE)\n",
        "test_dataset = test_dataset.batch(BATCH_SIZE).prefetch(tf.data.AUTOTUNE)"
      ]
    },
    {
      "cell_type": "code",
      "execution_count": 7,
      "metadata": {
        "id": "jqkvdcFv41wC",
        "outputId": "82a0fe10-38eb-43ae-86c7-07da1155bbb2",
        "colab": {
          "base_uri": "https://localhost:8080/"
        }
      },
      "outputs": [
        {
          "output_type": "stream",
          "name": "stdout",
          "text": [
            "texts:  [b\"I am not going to lie. Despite looking interesting, I watched The Notorious Bettie Page because I had heard (and it was fairly obvious just by looking at a synopsis or anything about the film), that Gretchen Mol got naked in it. I have never been a fan of Mol, but I cannot resist seeing an attractive woman taking off her clothes. Yes, that may be perverted, but its a theme and ideal central to the very core of the movie, and helps to make the film a lot stronger than it probably should be.<br /><br />The film chronicles Bettie Page's (Mol) life from her physical and sexually abused days as a kid in high school in the South, and onto her new life in New York. She wants to be an actress, but she has to pay bills too. After taking a few seemingly innocent shots on a local beach, Page slowly becomes a modeling sensation, and quickly jumps from suggestive photos to sexually provocative pin-up photographs.<br /><br />I feel the briefness of the film (just over ninety minutes) is both a curse and blessing for it. On one hand, the film never overstays its welcome. You get to know Page within a few short minutes, and then it gets right into her modeling career and does not look back. But it curses the film as well, because we never really get a chance to grasp everything that is going on. She just kind of jumps around between modeling shoots and the controversies that they create before jumping right into the major senate investigation that takes up much of the final act of the film. You just sit there, and attempt to absorb it all, and more just comes right at you. It feels like the filmmakers wanted to summarize too much material in too short a film. It begs for longer sequences, and begs more for even longer explanations. It does not feel rushed; it just does not feel all there.<br /><br />Another bit of a fumble, although a bit more of a curiosity, is the use of colour throughout the film. The majority is in black and white, but frequently, splashes and sequences of colour do emerge. But while this may have been done as a symbolic gesture early on, it becomes a bit of a distraction as it continually pops up later on before cutting back to black and white. It gets confusing, and becomes more of a tedious interference than anything else as the film goes on.<br /><br />While it may fumble a bit with the actions, the film stays dead-on with its themes. Page, who I know little to nothing about, is played off innocently, and her world is exactly the same. Save for a few shady characters during her teenage years, everyone she encounters is an innocent, and everything she does has an innocence to it. I never thought I would look at full frontal nudity as being something that was anything other than vulgar and depraved, but here, it truly is something to marvel at. All at once, it is beautiful and innocent. Even the most sexually perverted moments in the film (albeit tame compared to today's standards) have an innocent and angelic feeling to them. There is just something about the way Mol's nude body is portrayed that it just strikes at such a different chord than nude bodies in other films. It just feels so natural and so wondrous, that if there were any reason to watch the film, it would be to see the spectacular depictions of Mol's body as she plays Bettie Page.<br /><br />The other reason is Mol herself. As Page, she exemplifies that 1950's Southern belle everyone knows (or can at least imagine). Despite her profession, she is still a normal person, and still looks at herself as being religious. Mol plays her exactly to the right amount of squeaky-cleanliness needed to make this character feel authentically from the 1950's. She plays her with such matter-of-factness that you would be hard-set not to think that Mol was actually Bettie Page herself.<br /><br />Unfortunately, the supporting cast have very little moments to shine, and are totally overshadowed by Mol's wonderful performance. None of them do anything particularly pleasing, and none of them really have that same strength in their role as Mol does. This is not really the fault of the actors, but more of the fact that they do not have much to work with. Many of them are totally recognizable, such as Oscar-nominee David Strathairn (in a role a little too close to one of his better performances), Sarah Paulson (recent Golden Globe nominee for Studio 60 on the Sunset Strip), and character actor Lili Taylor, but you would be hard set to really place their performance in being anything other than okay. None of these characters are really developed, and they really just stand as character cut-outs who Mol runs loops around as she picks up steam in her brilliant performance.<br /><br />Really, this film is worthwhile for its portrayal of nudity, and for Gretchen Mol's excellent performance of Bettie Page. Everything else is a bit too muddled and awkward than it should be. Had more work been done to develop supporting characters and not just blast right through the story, this film would have been a much better biographical film. As it stands, it is just a vehicle for Mol to really rise into the stratosphere of popularity as an actress.<br /><br />7/10.\"\n",
            " b\"It's hard to believe people actually LIKE this dreck! I do think kids can enjoy it, but to me it's the kind of kid film parents can't bear to sit through. Predictable plot, boring Belushi, and possibly the worst kid actor of all time. I will give the director some of the responsibility for the kid, but she was truly painful to watch. I feel embarrassed for her now, having people know it was her. When she sang the Star Spangled Banner I had to turn the sound off--then I came here and discovered they did that because she won Star Search. I've always felt Jim Belushi should be ashamed to trade on the name of his wonderful, sadly missed brother, and this crap shows why. Zero stars.\"\n",
            " b\"This is one of the funniest movies I have seen. I watched it on DVD, and the disc does not have any special features, or even a menu, but that is not necessarily what I care about. <br /><br />I tend to judge movies on a case by case basis, depending on, among other things, if it is a big studio production or a smaller film. This is a smaller film and I am willing to forgive minor things. That said, I believe it has one of the most imaginative and original title sequences that I have seen.<br /><br />I enjoyed the acting of all of the major players. I especially enjoyed Til Schweiger and Alan Arkin. Alan Arkin has most of the funniest lines. The character portrayed by Claire Forlani might come across as unrealistic to some people, but I have personally known real people with emotional problems that very readily look at life's decisions as her character does. That helped me pick up the nuances where her hurts could come out through the veneer of her humor.<br /><br />This is not a movie for children, obviously, but it does NOT engage in gratuitous sex and nudity. There is quite a bit of adult language, though, but it can sometimes be very funny. (In particular, Alan Arkin's character, who can't even swear correctly.)<br /><br />Also watch for the cameos from known character actors.\"]\n",
            "\n",
            "labels:  [1 0 1]\n"
          ]
        }
      ],
      "source": [
        "for example, label in train_dataset.take(1):\n",
        "  print('texts: ', example.numpy()[:3])\n",
        "  print()\n",
        "  print('labels: ', label.numpy()[:3])"
      ]
    },
    {
      "cell_type": "markdown",
      "metadata": {
        "id": "s5eWCo88voPY"
      },
      "source": [
        "## Create the text encoder"
      ]
    },
    {
      "cell_type": "markdown",
      "metadata": {
        "id": "TFevcItw15P_"
      },
      "source": [
        "The raw text loaded by `tfds` needs to be processed before it can be used in a model. The simplest way to process text for training is using the `TextVectorization` layer. This layer has many capabilities, but this tutorial sticks to the default behavior.\n",
        "\n",
        "Create the layer, and pass the dataset's text to the layer's `.adapt` method:"
      ]
    },
    {
      "cell_type": "code",
      "source": [
        "import string,re"
      ],
      "metadata": {
        "id": "4JbK7-QjTHgk"
      },
      "execution_count": 11,
      "outputs": []
    },
    {
      "cell_type": "code",
      "source": [
        "def custom_standardization(input_data):\n",
        "  lowercase = tf.strings.lower(input_data)\n",
        "  stripped_html = tf.strings.regex_replace(lowercase, '<br />', ' ')\n",
        "  return tf.strings.regex_replace(stripped_html,\n",
        "                                  '[%s]' % re.escape(string.punctuation),\n",
        "                                  '')"
      ],
      "metadata": {
        "id": "Gx_yxDFdTB3p"
      },
      "execution_count": 15,
      "outputs": []
    },
    {
      "cell_type": "code",
      "execution_count": 16,
      "metadata": {
        "id": "uC25Lu1Yvuqy"
      },
      "outputs": [],
      "source": [
        "VOCAB_SIZE = 5000\n",
        "encoder = tf.keras.layers.TextVectorization(\n",
        "    max_tokens=VOCAB_SIZE,\n",
        "    standardize=custom_standardization,)\n",
        "\n",
        "encoder.adapt(train_dataset.map(lambda text, label: text))"
      ]
    },
    {
      "cell_type": "markdown",
      "metadata": {
        "id": "IuQzVBbe3Ldu"
      },
      "source": [
        "The `.adapt` method sets the layer's vocabulary. Here are the first 20 tokens. After the padding and unknown tokens they're sorted by frequency:"
      ]
    },
    {
      "cell_type": "code",
      "execution_count": 17,
      "metadata": {
        "id": "tBoyjjWg0Ac9",
        "outputId": "cb126841-b18d-4798-ef08-6e9559db84c5",
        "colab": {
          "base_uri": "https://localhost:8080/"
        }
      },
      "outputs": [
        {
          "output_type": "execute_result",
          "data": {
            "text/plain": [
              "array(['', '[UNK]', 'the', 'and', 'a', 'of', 'to', 'is', 'in', 'it', 'i',\n",
              "       'this', 'that', 'was', 'as', 'for', 'with', 'movie', 'but', 'film'],\n",
              "      dtype='<U16')"
            ]
          },
          "metadata": {},
          "execution_count": 17
        }
      ],
      "source": [
        "vocab = np.array(encoder.get_vocabulary())\n",
        "vocab[:20]"
      ]
    },
    {
      "cell_type": "markdown",
      "metadata": {
        "id": "mjId5pua3jHQ"
      },
      "source": [
        "Once the vocabulary is set, the layer can encode text into indices. The tensors of indices are 0-padded to the longest sequence in the batch (unless you set a fixed `output_sequence_length`):"
      ]
    },
    {
      "cell_type": "code",
      "source": [
        "encoder([\"was good\", \"The movie \", \"it was \"])"
      ],
      "metadata": {
        "id": "HU5s2AtATt6X",
        "outputId": "4dee260b-07c2-4837-a1d3-2a9252ab6a4a",
        "colab": {
          "base_uri": "https://localhost:8080/"
        }
      },
      "execution_count": 22,
      "outputs": [
        {
          "output_type": "execute_result",
          "data": {
            "text/plain": [
              "<tf.Tensor: shape=(3, 2), dtype=int64, numpy=\n",
              "array([[13, 49],\n",
              "       [ 2, 17],\n",
              "       [ 9, 13]])>"
            ]
          },
          "metadata": {},
          "execution_count": 22
        }
      ]
    },
    {
      "cell_type": "code",
      "execution_count": 19,
      "metadata": {
        "id": "RGc7C9WiwRWs",
        "outputId": "cba8107c-6b5e-4a97-ccd1-8c237ac90dbc",
        "colab": {
          "base_uri": "https://localhost:8080/"
        }
      },
      "outputs": [
        {
          "output_type": "execute_result",
          "data": {
            "text/plain": [
              "(3, 912)"
            ]
          },
          "metadata": {},
          "execution_count": 19
        }
      ],
      "source": [
        "encoded_example = encoder(example)[:3].numpy()\n",
        "encoded_example.shape"
      ]
    },
    {
      "cell_type": "markdown",
      "metadata": {
        "id": "F5cjz0bS39IN"
      },
      "source": [
        "With the default settings, the process is not completely reversible. There are three main reasons for that:\n",
        "\n",
        "1. The default value for `preprocessing.TextVectorization`'s `standardize` argument is `\"lower_and_strip_punctuation\"`.\n",
        "2. The limited vocabulary size and lack of character-based fallback results in some unknown tokens."
      ]
    },
    {
      "cell_type": "code",
      "execution_count": 23,
      "metadata": {
        "id": "N_tD0QY5wXaK",
        "outputId": "36df7ebf-c927-48ac-adba-5812c104b045",
        "colab": {
          "base_uri": "https://localhost:8080/"
        }
      },
      "outputs": [
        {
          "output_type": "stream",
          "name": "stdout",
          "text": [
            "Original:  b\"I am not going to lie. Despite looking interesting, I watched The Notorious Bettie Page because I had heard (and it was fairly obvious just by looking at a synopsis or anything about the film), that Gretchen Mol got naked in it. I have never been a fan of Mol, but I cannot resist seeing an attractive woman taking off her clothes. Yes, that may be perverted, but its a theme and ideal central to the very core of the movie, and helps to make the film a lot stronger than it probably should be.<br /><br />The film chronicles Bettie Page's (Mol) life from her physical and sexually abused days as a kid in high school in the South, and onto her new life in New York. She wants to be an actress, but she has to pay bills too. After taking a few seemingly innocent shots on a local beach, Page slowly becomes a modeling sensation, and quickly jumps from suggestive photos to sexually provocative pin-up photographs.<br /><br />I feel the briefness of the film (just over ninety minutes) is both a curse and blessing for it. On one hand, the film never overstays its welcome. You get to know Page within a few short minutes, and then it gets right into her modeling career and does not look back. But it curses the film as well, because we never really get a chance to grasp everything that is going on. She just kind of jumps around between modeling shoots and the controversies that they create before jumping right into the major senate investigation that takes up much of the final act of the film. You just sit there, and attempt to absorb it all, and more just comes right at you. It feels like the filmmakers wanted to summarize too much material in too short a film. It begs for longer sequences, and begs more for even longer explanations. It does not feel rushed; it just does not feel all there.<br /><br />Another bit of a fumble, although a bit more of a curiosity, is the use of colour throughout the film. The majority is in black and white, but frequently, splashes and sequences of colour do emerge. But while this may have been done as a symbolic gesture early on, it becomes a bit of a distraction as it continually pops up later on before cutting back to black and white. It gets confusing, and becomes more of a tedious interference than anything else as the film goes on.<br /><br />While it may fumble a bit with the actions, the film stays dead-on with its themes. Page, who I know little to nothing about, is played off innocently, and her world is exactly the same. Save for a few shady characters during her teenage years, everyone she encounters is an innocent, and everything she does has an innocence to it. I never thought I would look at full frontal nudity as being something that was anything other than vulgar and depraved, but here, it truly is something to marvel at. All at once, it is beautiful and innocent. Even the most sexually perverted moments in the film (albeit tame compared to today's standards) have an innocent and angelic feeling to them. There is just something about the way Mol's nude body is portrayed that it just strikes at such a different chord than nude bodies in other films. It just feels so natural and so wondrous, that if there were any reason to watch the film, it would be to see the spectacular depictions of Mol's body as she plays Bettie Page.<br /><br />The other reason is Mol herself. As Page, she exemplifies that 1950's Southern belle everyone knows (or can at least imagine). Despite her profession, she is still a normal person, and still looks at herself as being religious. Mol plays her exactly to the right amount of squeaky-cleanliness needed to make this character feel authentically from the 1950's. She plays her with such matter-of-factness that you would be hard-set not to think that Mol was actually Bettie Page herself.<br /><br />Unfortunately, the supporting cast have very little moments to shine, and are totally overshadowed by Mol's wonderful performance. None of them do anything particularly pleasing, and none of them really have that same strength in their role as Mol does. This is not really the fault of the actors, but more of the fact that they do not have much to work with. Many of them are totally recognizable, such as Oscar-nominee David Strathairn (in a role a little too close to one of his better performances), Sarah Paulson (recent Golden Globe nominee for Studio 60 on the Sunset Strip), and character actor Lili Taylor, but you would be hard set to really place their performance in being anything other than okay. None of these characters are really developed, and they really just stand as character cut-outs who Mol runs loops around as she picks up steam in her brilliant performance.<br /><br />Really, this film is worthwhile for its portrayal of nudity, and for Gretchen Mol's excellent performance of Bettie Page. Everything else is a bit too muddled and awkward than it should be. Had more work been done to develop supporting characters and not just blast right through the story, this film would have been a much better biographical film. As it stands, it is just a vehicle for Mol to really rise into the stratosphere of popularity as an actress.<br /><br />7/10.\"\n",
            "Round-trip:  i am not going to lie despite looking interesting i watched the notorious bettie page because i had heard and it was fairly obvious just by looking at a synopsis or anything about the film that [UNK] [UNK] got naked in it i have never been a fan of [UNK] but i cannot resist seeing an attractive woman taking off her clothes yes that may be [UNK] but its a theme and ideal central to the very core of the movie and helps to make the film a lot stronger than it probably should be the film [UNK] bettie pages [UNK] life from her physical and sexually [UNK] days as a kid in high school in the south and onto her new life in new york she wants to be an actress but she has to pay [UNK] too after taking a few seemingly innocent shots on a local beach page slowly becomes a [UNK] [UNK] and quickly jumps from [UNK] photos to sexually [UNK] [UNK] [UNK] i feel the [UNK] of the film just over [UNK] minutes is both a curse and [UNK] for it on one hand the film never [UNK] its welcome you get to know page within a few short minutes and then it gets right into her [UNK] career and does not look back but it [UNK] the film as well because we never really get a chance to grasp everything that is going on she just kind of jumps around between [UNK] shoots and the [UNK] that they create before jumping right into the major [UNK] investigation that takes up much of the final act of the film you just sit there and attempt to [UNK] it all and more just comes right at you it feels like the filmmakers wanted to [UNK] too much material in too short a film it [UNK] for longer sequences and [UNK] more for even longer [UNK] it does not feel rushed it just does not feel all there another bit of a [UNK] although a bit more of a curiosity is the use of colour throughout the film the majority is in black and white but frequently [UNK] and sequences of colour do [UNK] but while this may have been done as a [UNK] [UNK] early on it becomes a bit of a [UNK] as it [UNK] pops up later on before cutting back to black and white it gets confusing and becomes more of a tedious [UNK] than anything else as the film goes on while it may [UNK] a bit with the actions the film stays [UNK] with its themes page who i know little to nothing about is played off [UNK] and her world is exactly the same save for a few [UNK] characters during her teenage years everyone she encounters is an innocent and everything she does has an innocence to it i never thought i would look at full [UNK] nudity as being something that was anything other than [UNK] and [UNK] but here it truly is something to [UNK] at all at once it is beautiful and innocent even the most sexually [UNK] moments in the film albeit tame compared to todays standards have an innocent and [UNK] feeling to them there is just something about the way [UNK] nude body is portrayed that it just strikes at such a different [UNK] than nude bodies in other films it just feels so natural and so [UNK] that if there were any reason to watch the film it would be to see the spectacular [UNK] of [UNK] body as she plays bettie page the other reason is [UNK] herself as page she [UNK] that 1950s southern [UNK] everyone knows or can at least imagine despite her [UNK] she is still a normal person and still looks at herself as being religious [UNK] plays her exactly to the right amount of [UNK] needed to make this character feel [UNK] from the 1950s she plays her with such [UNK] that you would be [UNK] not to think that [UNK] was actually bettie page herself unfortunately the supporting cast have very little moments to shine and are totally [UNK] by [UNK] wonderful performance none of them do anything particularly [UNK] and none of them really have that same strength in their role as [UNK] does this is not really the fault of the actors but more of the fact that they do not have much to work with many of them are totally [UNK] such as [UNK] david [UNK] in a role a little too close to one of his better performances sarah [UNK] recent golden [UNK] [UNK] for studio 60 on the [UNK] strip and character actor [UNK] taylor but you would be hard set to really place their performance in being anything other than okay none of these characters are really developed and they really just stand as character [UNK] who [UNK] runs [UNK] around as she picks up [UNK] in her brilliant performance really this film is worthwhile for its portrayal of nudity and for [UNK] [UNK] excellent performance of bettie page everything else is a bit too [UNK] and awkward than it should be had more work been done to develop supporting characters and not just [UNK] right through the story this film would have been a much better [UNK] film as it stands it is just a vehicle for [UNK] to really rise into the [UNK] of popularity as an actress 710\n",
            "\n",
            "Original:  b\"It's hard to believe people actually LIKE this dreck! I do think kids can enjoy it, but to me it's the kind of kid film parents can't bear to sit through. Predictable plot, boring Belushi, and possibly the worst kid actor of all time. I will give the director some of the responsibility for the kid, but she was truly painful to watch. I feel embarrassed for her now, having people know it was her. When she sang the Star Spangled Banner I had to turn the sound off--then I came here and discovered they did that because she won Star Search. I've always felt Jim Belushi should be ashamed to trade on the name of his wonderful, sadly missed brother, and this crap shows why. Zero stars.\"\n",
            "Round-trip:  its hard to believe people actually like this dreck i do think kids can enjoy it but to me its the kind of kid film parents cant bear to sit through predictable plot boring [UNK] and possibly the worst kid actor of all time i will give the director some of the responsibility for the kid but she was truly painful to watch i feel embarrassed for her now having people know it was her when she [UNK] the star [UNK] [UNK] i had to turn the sound [UNK] i came here and discovered they did that because she won star search ive always felt jim [UNK] should be ashamed to trade on the name of his wonderful sadly missed brother and this crap shows why zero stars                                                                                                                                                                                                                                                                                                                                                                                                                                                                                                                                                                                                                                                                                                                                                                                                                \n",
            "\n",
            "Original:  b\"This is one of the funniest movies I have seen. I watched it on DVD, and the disc does not have any special features, or even a menu, but that is not necessarily what I care about. <br /><br />I tend to judge movies on a case by case basis, depending on, among other things, if it is a big studio production or a smaller film. This is a smaller film and I am willing to forgive minor things. That said, I believe it has one of the most imaginative and original title sequences that I have seen.<br /><br />I enjoyed the acting of all of the major players. I especially enjoyed Til Schweiger and Alan Arkin. Alan Arkin has most of the funniest lines. The character portrayed by Claire Forlani might come across as unrealistic to some people, but I have personally known real people with emotional problems that very readily look at life's decisions as her character does. That helped me pick up the nuances where her hurts could come out through the veneer of her humor.<br /><br />This is not a movie for children, obviously, but it does NOT engage in gratuitous sex and nudity. There is quite a bit of adult language, though, but it can sometimes be very funny. (In particular, Alan Arkin's character, who can't even swear correctly.)<br /><br />Also watch for the cameos from known character actors.\"\n",
            "Round-trip:  this is one of the funniest movies i have seen i watched it on dvd and the disc does not have any special features or even a [UNK] but that is not necessarily what i care about i tend to judge movies on a case by case basis [UNK] on among other things if it is a big studio production or a smaller film this is a smaller film and i am willing to forgive minor things that said i believe it has one of the most imaginative and original title sequences that i have seen i enjoyed the acting of all of the major players i especially enjoyed [UNK] [UNK] and alan [UNK] alan [UNK] has most of the funniest lines the character portrayed by claire [UNK] might come across as unrealistic to some people but i have personally known real people with emotional problems that very [UNK] look at [UNK] decisions as her character does that helped me pick up the [UNK] where her hurts could come out through the [UNK] of her humor this is not a movie for children obviously but it does not engage in gratuitous sex and nudity there is quite a bit of adult language though but it can sometimes be very funny in particular alan [UNK] character who cant even swear [UNK] also watch for the cameos from known character actors                                                                                                                                                                                                                                                                                                                                                                                                                                                                                                                                                                                                                                                                                                           \n",
            "\n"
          ]
        }
      ],
      "source": [
        "for n in range(3):\n",
        "  print(\"Original: \", example[n].numpy())\n",
        "  print(\"Round-trip: \", \" \".join(vocab[encoded_example[n]]))\n",
        "  print()"
      ]
    },
    {
      "cell_type": "markdown",
      "metadata": {
        "id": "bjUqGVBxGw-t"
      },
      "source": [
        "## Create the model"
      ]
    },
    {
      "cell_type": "markdown",
      "metadata": {
        "id": "W7zsmInBOCPO"
      },
      "source": [
        "![A drawing of the information flow in the model](https://github.com/tensorflow/text/blob/master/docs/tutorials/images/bidirectional.png?raw=1)"
      ]
    },
    {
      "cell_type": "markdown",
      "metadata": {
        "id": "bgs6nnSTGw-t"
      },
      "source": [
        "Above is a diagram of the model.\n",
        "\n",
        "1. This model can be build as a `tf.keras.Sequential`.\n",
        "\n",
        "2. The first layer is the `encoder`, which converts the text to a sequence of token indices.\n",
        "\n",
        "3. After the encoder is an embedding layer. An embedding layer stores one vector per word. When called, it converts the sequences of word indices to sequences of vectors. These vectors are trainable. After training (on enough data), words with similar meanings often have similar vectors.\n",
        "\n",
        "  This index-lookup is much more efficient than the equivalent operation of passing a one-hot encoded vector through a `tf.keras.layers.Dense` layer.\n",
        "\n",
        "4. A recurrent neural network (RNN) processes sequence input by iterating through the elements. RNNs pass the outputs from one timestep to their input on the next timestep.\n",
        "\n",
        "  The `tf.keras.layers.Bidirectional` wrapper can also be used with an RNN layer. This propagates the input forward and backwards through the RNN layer and then concatenates the final output.\n",
        "\n",
        "  * The main advantage of a bidirectional RNN is that the signal from the beginning of the input doesn't need to be processed all the way through every timestep to affect the output.  \n",
        "\n",
        "  * The main disadvantage of a bidirectional RNN is that you can't efficiently stream predictions as words are being added to the end.\n",
        "\n",
        "5. After the RNN has converted the sequence to a single vector the two `layers.Dense` do some final processing, and convert from this vector representation to a single logit as the classification output.\n"
      ]
    },
    {
      "cell_type": "markdown",
      "metadata": {
        "id": "V4fodCI7soQi"
      },
      "source": [
        "The code to implement this is below:"
      ]
    },
    {
      "cell_type": "code",
      "execution_count": 33,
      "metadata": {
        "id": "LwfoBkmRYcP3"
      },
      "outputs": [],
      "source": [
        "model = tf.keras.Sequential([\n",
        "    encoder,\n",
        "    tf.keras.layers.Embedding(\n",
        "        input_dim=len(encoder.get_vocabulary()),\n",
        "        output_dim=64,\n",
        "        # Use masking to handle the variable sequence lengths\n",
        "        mask_zero=True),\n",
        "    tf.keras.layers.Bidirectional(tf.keras.layers.LSTM(64)),\n",
        "    tf.keras.layers.Dense(64, activation='relu'),\n",
        "    tf.keras.layers.Dense(1)\n",
        "])"
      ]
    },
    {
      "cell_type": "markdown",
      "metadata": {
        "id": "QIGmIGkkouUb"
      },
      "source": [
        "Please note that Keras sequential model is used here since all the layers in the model only have single input and produce single output. In case you want to use stateful RNN layer, you might want to build your model with Keras functional API or model subclassing so that you can retrieve and reuse the RNN layer states. Please check [Keras RNN guide](https://www.tensorflow.org/guide/keras/rnn#rnn_state_reuse) for more details."
      ]
    },
    {
      "cell_type": "markdown",
      "metadata": {
        "id": "kF-PsCk1LwjY"
      },
      "source": [
        "The embedding layer [uses masking](https://www.tensorflow.org/guide/keras/masking_and_padding) to handle the varying sequence-lengths. All the layers after the `Embedding` support masking:"
      ]
    },
    {
      "cell_type": "code",
      "execution_count": 25,
      "metadata": {
        "id": "87a8-CwfKebw",
        "outputId": "9fadc099-9f4f-40cf-9ccc-13e7e23ea71c",
        "colab": {
          "base_uri": "https://localhost:8080/"
        }
      },
      "outputs": [
        {
          "output_type": "stream",
          "name": "stdout",
          "text": [
            "[False, True, True, True, True]\n"
          ]
        }
      ],
      "source": [
        "print([layer.supports_masking for layer in model.layers])"
      ]
    },
    {
      "cell_type": "markdown",
      "metadata": {
        "id": "ZlS0iaUIWLpI"
      },
      "source": [
        "To confirm that this works as expected, evaluate a sentence twice. First, alone so there's no padding to mask:"
      ]
    },
    {
      "cell_type": "code",
      "execution_count": 34,
      "metadata": {
        "id": "O41gw3KfWHus",
        "outputId": "78c0b663-0768-424c-ce7f-75ece091f5c6",
        "colab": {
          "base_uri": "https://localhost:8080/"
        }
      },
      "outputs": [
        {
          "output_type": "stream",
          "name": "stderr",
          "text": [
            "WARNING:tensorflow:5 out of the last 6 calls to <function TensorFlowTrainer.make_predict_function.<locals>.one_step_on_data_distributed at 0x7f7e2734f1a0> triggered tf.function retracing. Tracing is expensive and the excessive number of tracings could be due to (1) creating @tf.function repeatedly in a loop, (2) passing tensors with different shapes, (3) passing Python objects instead of tensors. For (1), please define your @tf.function outside of the loop. For (2), @tf.function has reduce_retracing=True option that can avoid unnecessary retracing. For (3), please refer to https://www.tensorflow.org/guide/function#controlling_retracing and https://www.tensorflow.org/api_docs/python/tf/function for  more details.\n"
          ]
        },
        {
          "output_type": "stream",
          "name": "stdout",
          "text": [
            "\u001b[1m1/1\u001b[0m \u001b[32m━━━━━━━━━━━━━━━━━━━━\u001b[0m\u001b[37m\u001b[0m \u001b[1m1s\u001b[0m 859ms/step\n",
            "[-0.00515105]\n"
          ]
        }
      ],
      "source": [
        "# predict on a sample text without padding.\n",
        "\n",
        "sample_text = ('The movie was cool')\n",
        "predictions = model.predict(tf.constant([sample_text]))\n",
        "print(predictions[0])"
      ]
    },
    {
      "cell_type": "code",
      "source": [
        "# predict on a sample text without padding.\n",
        "\n",
        "sample_text = (['The movie was cool', \"it was not a bad movie, it was good\"])\n",
        "predictions = model.predict(tf.constant(sample_text))\n",
        "print(predictions[0])"
      ],
      "metadata": {
        "id": "xJvF7rApWX9_",
        "outputId": "d2ca9cec-4684-43ac-cc3e-4ce84cdfee3c",
        "colab": {
          "base_uri": "https://localhost:8080/"
        }
      },
      "execution_count": 35,
      "outputs": [
        {
          "output_type": "stream",
          "name": "stderr",
          "text": [
            "WARNING:tensorflow:6 out of the last 7 calls to <function TensorFlowTrainer.make_predict_function.<locals>.one_step_on_data_distributed at 0x7f7e2734f1a0> triggered tf.function retracing. Tracing is expensive and the excessive number of tracings could be due to (1) creating @tf.function repeatedly in a loop, (2) passing tensors with different shapes, (3) passing Python objects instead of tensors. For (1), please define your @tf.function outside of the loop. For (2), @tf.function has reduce_retracing=True option that can avoid unnecessary retracing. For (3), please refer to https://www.tensorflow.org/guide/function#controlling_retracing and https://www.tensorflow.org/api_docs/python/tf/function for  more details.\n"
          ]
        },
        {
          "output_type": "stream",
          "name": "stdout",
          "text": [
            "\u001b[1m1/1\u001b[0m \u001b[32m━━━━━━━━━━━━━━━━━━━━\u001b[0m\u001b[37m\u001b[0m \u001b[1m0s\u001b[0m 305ms/step\n",
            "[-0.00515105]\n"
          ]
        }
      ]
    },
    {
      "cell_type": "markdown",
      "metadata": {
        "id": "K0VQmGnEWcuz"
      },
      "source": [
        "Now, evaluate it again in a batch with a longer sentence. The result should be identical:"
      ]
    },
    {
      "cell_type": "markdown",
      "metadata": {
        "id": "sRI776ZcH3Tf"
      },
      "source": [
        "Compile the Keras model to configure the training process:"
      ]
    },
    {
      "cell_type": "code",
      "execution_count": 36,
      "metadata": {
        "id": "kj2xei41YZjC"
      },
      "outputs": [],
      "source": [
        "model.compile(loss=tf.keras.losses.BinaryCrossentropy(from_logits=True),\n",
        "              optimizer=tf.keras.optimizers.Adam(1e-4),\n",
        "              metrics=['accuracy'])"
      ]
    },
    {
      "cell_type": "markdown",
      "metadata": {
        "id": "zIwH3nto596k"
      },
      "source": [
        "## Train the model"
      ]
    },
    {
      "cell_type": "code",
      "execution_count": 37,
      "metadata": {
        "id": "hw86wWS4YgR2",
        "outputId": "67fcba00-dde3-4a19-9961-89d984b6bac1",
        "colab": {
          "base_uri": "https://localhost:8080/"
        }
      },
      "outputs": [
        {
          "output_type": "stream",
          "name": "stdout",
          "text": [
            "Epoch 1/10\n",
            "\u001b[1m391/391\u001b[0m \u001b[32m━━━━━━━━━━━━━━━━━━━━\u001b[0m\u001b[37m\u001b[0m \u001b[1m31s\u001b[0m 69ms/step - accuracy: 0.5219 - loss: 0.6752 - val_accuracy: 0.7797 - val_loss: 0.4376\n",
            "Epoch 2/10\n",
            "\u001b[1m391/391\u001b[0m \u001b[32m━━━━━━━━━━━━━━━━━━━━\u001b[0m\u001b[37m\u001b[0m \u001b[1m25s\u001b[0m 64ms/step - accuracy: 0.8166 - loss: 0.3946 - val_accuracy: 0.8365 - val_loss: 0.3649\n",
            "Epoch 3/10\n",
            "\u001b[1m391/391\u001b[0m \u001b[32m━━━━━━━━━━━━━━━━━━━━\u001b[0m\u001b[37m\u001b[0m \u001b[1m41s\u001b[0m 104ms/step - accuracy: 0.8701 - loss: 0.3134 - val_accuracy: 0.8547 - val_loss: 0.3180\n",
            "Epoch 4/10\n",
            "\u001b[1m391/391\u001b[0m \u001b[32m━━━━━━━━━━━━━━━━━━━━\u001b[0m\u001b[37m\u001b[0m \u001b[1m23s\u001b[0m 59ms/step - accuracy: 0.9014 - loss: 0.2484 - val_accuracy: 0.8677 - val_loss: 0.2952\n",
            "Epoch 5/10\n",
            "\u001b[1m391/391\u001b[0m \u001b[32m━━━━━━━━━━━━━━━━━━━━\u001b[0m\u001b[37m\u001b[0m \u001b[1m24s\u001b[0m 61ms/step - accuracy: 0.9151 - loss: 0.2242 - val_accuracy: 0.8776 - val_loss: 0.3139\n",
            "Epoch 6/10\n",
            "\u001b[1m391/391\u001b[0m \u001b[32m━━━━━━━━━━━━━━━━━━━━\u001b[0m\u001b[37m\u001b[0m \u001b[1m24s\u001b[0m 61ms/step - accuracy: 0.9222 - loss: 0.2015 - val_accuracy: 0.8802 - val_loss: 0.2872\n",
            "Epoch 7/10\n",
            "\u001b[1m391/391\u001b[0m \u001b[32m━━━━━━━━━━━━━━━━━━━━\u001b[0m\u001b[37m\u001b[0m \u001b[1m41s\u001b[0m 105ms/step - accuracy: 0.9326 - loss: 0.1850 - val_accuracy: 0.8797 - val_loss: 0.3097\n",
            "Epoch 8/10\n",
            "\u001b[1m391/391\u001b[0m \u001b[32m━━━━━━━━━━━━━━━━━━━━\u001b[0m\u001b[37m\u001b[0m \u001b[1m41s\u001b[0m 104ms/step - accuracy: 0.9354 - loss: 0.1756 - val_accuracy: 0.8828 - val_loss: 0.2959\n",
            "Epoch 9/10\n",
            "\u001b[1m391/391\u001b[0m \u001b[32m━━━━━━━━━━━━━━━━━━━━\u001b[0m\u001b[37m\u001b[0m \u001b[1m41s\u001b[0m 104ms/step - accuracy: 0.9416 - loss: 0.1670 - val_accuracy: 0.8786 - val_loss: 0.3303\n",
            "Epoch 10/10\n",
            "\u001b[1m391/391\u001b[0m \u001b[32m━━━━━━━━━━━━━━━━━━━━\u001b[0m\u001b[37m\u001b[0m \u001b[1m24s\u001b[0m 61ms/step - accuracy: 0.9445 - loss: 0.1543 - val_accuracy: 0.8745 - val_loss: 0.3206\n"
          ]
        }
      ],
      "source": [
        "history = model.fit(train_dataset, epochs=10,\n",
        "                    validation_data=test_dataset,\n",
        "                    validation_steps=30)"
      ]
    },
    {
      "cell_type": "code",
      "execution_count": 38,
      "metadata": {
        "id": "BaNbXi43YgUT",
        "outputId": "1a6382ed-7ca4-4ecc-e6fb-5062ba39e006",
        "colab": {
          "base_uri": "https://localhost:8080/"
        }
      },
      "outputs": [
        {
          "output_type": "stream",
          "name": "stdout",
          "text": [
            "\u001b[1m391/391\u001b[0m \u001b[32m━━━━━━━━━━━━━━━━━━━━\u001b[0m\u001b[37m\u001b[0m \u001b[1m12s\u001b[0m 31ms/step - accuracy: 0.8715 - loss: 0.3153\n",
            "Test Loss: 0.3125808537006378\n",
            "Test Accuracy: 0.8731600046157837\n"
          ]
        }
      ],
      "source": [
        "test_loss, test_acc = model.evaluate(test_dataset)\n",
        "\n",
        "print('Test Loss:', test_loss)\n",
        "print('Test Accuracy:', test_acc)"
      ]
    },
    {
      "cell_type": "code",
      "execution_count": 39,
      "metadata": {
        "id": "OZmwt_mzaQJk",
        "outputId": "52e12148-af78-4b16-b225-6afdff533a4d",
        "colab": {
          "base_uri": "https://localhost:8080/",
          "height": 719
        }
      },
      "outputs": [
        {
          "output_type": "execute_result",
          "data": {
            "text/plain": [
              "(0.0, 0.640924746543169)"
            ]
          },
          "metadata": {},
          "execution_count": 39
        },
        {
          "output_type": "display_data",
          "data": {
            "text/plain": [
              "<Figure size 1600x800 with 2 Axes>"
            ],
            "image/png": "[encoded data removed]"
          },
          "metadata": {}
        }
      ],
      "source": [
        "plt.figure(figsize=(16, 8))\n",
        "plt.subplot(1, 2, 1)\n",
        "plot_graphs(history, 'accuracy')\n",
        "plt.ylim(None, 1)\n",
        "plt.subplot(1, 2, 2)\n",
        "plot_graphs(history, 'loss')\n",
        "plt.ylim(0, None)"
      ]
    },
    {
      "cell_type": "markdown",
      "metadata": {
        "id": "DwSE_386uhxD"
      },
      "source": [
        "Run a prediction on a new sentence:\n",
        "\n",
        "If the prediction is >= 0.0, it is positive else it is negative."
      ]
    },
    {
      "cell_type": "code",
      "execution_count": 41,
      "metadata": {
        "id": "ZXgfQSgRW6zU",
        "outputId": "2337bf01-3560-46ae-9a30-8658d6d0c037",
        "colab": {
          "base_uri": "https://localhost:8080/"
        }
      },
      "outputs": [
        {
          "output_type": "stream",
          "name": "stdout",
          "text": [
            "\u001b[1m1/1\u001b[0m \u001b[32m━━━━━━━━━━━━━━━━━━━━\u001b[0m\u001b[37m\u001b[0m \u001b[1m0s\u001b[0m 32ms/step\n"
          ]
        },
        {
          "output_type": "execute_result",
          "data": {
            "text/plain": [
              "array([[1.6076399]], dtype=float32)"
            ]
          },
          "metadata": {},
          "execution_count": 41
        }
      ],
      "source": [
        "sample_text = ('The movie was cool. The animation and the graphics '\n",
        "               'were out of this world. I would recommend this movie.')\n",
        "predictions = model.predict(tf.constant([sample_text]))\n",
        "predictions"
      ]
    },
    {
      "cell_type": "code",
      "source": [
        "sample_text = (['The movie was not cool. it was terrible', 'The movie was not terrible. it was cool'])\n",
        "\n",
        "predictions = model.predict(tf.constant(sample_text))\n",
        "predictions"
      ],
      "metadata": {
        "id": "VhMEqCBbYv_y",
        "outputId": "120fe0f2-4f74-452d-ca3f-690f2b5dda05",
        "colab": {
          "base_uri": "https://localhost:8080/"
        }
      },
      "execution_count": 42,
      "outputs": [
        {
          "output_type": "stream",
          "name": "stdout",
          "text": [
            "\u001b[1m1/1\u001b[0m \u001b[32m━━━━━━━━━━━━━━━━━━━━\u001b[0m\u001b[37m\u001b[0m \u001b[1m0s\u001b[0m 300ms/step\n"
          ]
        },
        {
          "output_type": "execute_result",
          "data": {
            "text/plain": [
              "array([[-1.7706136],\n",
              "       [-1.6371506]], dtype=float32)"
            ]
          },
          "metadata": {},
          "execution_count": 42
        }
      ]
    },
    {
      "cell_type": "markdown",
      "metadata": {
        "id": "7g1evcaRpTKm"
      },
      "source": [
        "## Stack two or more LSTM layers\n",
        "\n",
        "Keras recurrent layers have two available modes that are controlled by the `return_sequences` constructor argument:\n",
        "\n",
        "* If `False` it returns only the last output for each input sequence (a 2D tensor of shape (batch_size, output_features)). This is the default, used in the previous model.\n",
        "\n",
        "* If `True` the full sequences of successive outputs for each timestep is returned (a 3D tensor of shape `(batch_size, timesteps, output_features)`).\n",
        "\n",
        "Here is what the flow of information looks like with `return_sequences=True`:\n",
        "\n",
        "![layered_bidirectional](https://github.com/tensorflow/text/blob/master/docs/tutorials/images/layered_bidirectional.png?raw=1)"
      ]
    },
    {
      "cell_type": "markdown",
      "metadata": {
        "id": "wbSClCrG1z8l"
      },
      "source": [
        "The interesting thing about using an `RNN` with `return_sequences=True` is that the output still has 3-axes, like the input, so it can be passed to another RNN layer, like this:"
      ]
    },
    {
      "cell_type": "code",
      "execution_count": null,
      "metadata": {
        "id": "jo1jjO3vn0jo"
      },
      "outputs": [],
      "source": [
        "model = tf.keras.Sequential([\n",
        "    encoder,\n",
        "    tf.keras.layers.Embedding(len(encoder.get_vocabulary()), 64, mask_zero=True),\n",
        "    tf.keras.layers.Bidirectional(tf.keras.layers.LSTM(64,  return_sequences=True)),\n",
        "    tf.keras.layers.Bidirectional(tf.keras.layers.LSTM(32)),\n",
        "    tf.keras.layers.Dense(64, activation='relu'),\n",
        "    tf.keras.layers.Dropout(0.5),\n",
        "    tf.keras.layers.Dense(1)\n",
        "])"
      ]
    },
    {
      "cell_type": "code",
      "execution_count": null,
      "metadata": {
        "id": "hEPV5jVGp-is"
      },
      "outputs": [],
      "source": [
        "model.compile(loss=tf.keras.losses.BinaryCrossentropy(from_logits=True),\n",
        "              optimizer=tf.keras.optimizers.Adam(1e-4),\n",
        "              metrics=['accuracy'])"
      ]
    },
    {
      "cell_type": "code",
      "execution_count": null,
      "metadata": {
        "id": "LeSE-YjdqAeN"
      },
      "outputs": [],
      "source": [
        "history = model.fit(train_dataset, epochs=10,\n",
        "                    validation_data=test_dataset,\n",
        "                    validation_steps=30)"
      ]
    },
    {
      "cell_type": "code",
      "execution_count": null,
      "metadata": {
        "id": "_LdwilM1qPM3"
      },
      "outputs": [],
      "source": [
        "test_loss, test_acc = model.evaluate(test_dataset)\n",
        "\n",
        "print('Test Loss:', test_loss)\n",
        "print('Test Accuracy:', test_acc)"
      ]
    },
    {
      "cell_type": "code",
      "execution_count": null,
      "metadata": {
        "id": "ykUKnAoqbycW"
      },
      "outputs": [],
      "source": [
        "# predict on a sample text without padding.\n",
        "\n",
        "sample_text = ('The movie was not good. The animation and the graphics '\n",
        "               'were terrible. I would not recommend this movie.')\n",
        "predictions = model.predict(np.array([sample_text]))\n",
        "print(predictions)"
      ]
    },
    {
      "cell_type": "code",
      "execution_count": null,
      "metadata": {
        "id": "_YYub0EDtwCu"
      },
      "outputs": [],
      "source": [
        "plt.figure(figsize=(16, 6))\n",
        "plt.subplot(1, 2, 1)\n",
        "plot_graphs(history, 'accuracy')\n",
        "plt.subplot(1, 2, 2)\n",
        "plot_graphs(history, 'loss')"
      ]
    },
    {
      "cell_type": "markdown",
      "metadata": {
        "id": "9xvpE3BaGw_V"
      },
      "source": [
        "Check out other existing recurrent layers such as [GRU layers](https://www.tensorflow.org/api_docs/python/tf/keras/layers/GRU).\n",
        "\n",
        "If you're interested in building custom RNNs, see the [Keras RNN Guide](https://www.tensorflow.org/guide/keras/rnn).\n"
      ]
    }
  ],
  "metadata": {
    "accelerator": "GPU",
    "colab": {
      "name": "text_classification_rnn.ipynb",
      "provenance": []
    },
    "kernelspec": {
      "display_name": "Python 3",
      "name": "python3"
    }
  },
  "nbformat": 4,
  "nbformat_minor": 0
}
